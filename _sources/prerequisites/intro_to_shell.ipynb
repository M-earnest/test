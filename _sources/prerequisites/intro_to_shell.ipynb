{
 "cells": [
  {
   "cell_type": "markdown",
   "metadata": {
    "slideshow": {
     "slide_type": "slide"
    }
   },
   "source": [
    "## Prerequisite - the (unix) command line: bash\n",
    "\n",
    "This is meant to quickly get you up to speed with the bash programming language or in other words how to work with your terminal/shell. This will be necessary for the comming workshop, as we'll need a more direct way to interact with your OS to make Docker work for you. Please follow this tutorial closely on your local machine.\n",
    "\n",
    "If you've got any questions reach out to the folks or via the [workshop discord channel](invite link)!"
   ]
  },
  {
   "cell_type": "markdown",
   "metadata": {
    "slideshow": {
     "slide_type": "subslide"
    }
   },
   "source": [
    "## Before we get started...\n",
    "<br>\n",
    "\n",
    "- most of what you’ll see within this lecture was prepared by Ross Markello and further adapted by Peer Herholz & Michael Ernst\n",
    "- based on the Software Carpentries \"[Introduction to the Shell](https://swcarpentry.github.io/shell-novice/)\" under CC-BY 4.0\n",
    "\n",
    "\n",
    "[Michael Ernst](https://github.com/M-earnest)  \n",
    "Phd student - [Fiebach Lab](http://www.fiebachlab.org/), [Neurocognitive Psychology](https://www.psychologie.uni-frankfurt.de/49868684/Abteilungen) at [Goethe-University Frankfurt](https://www.goethe-university-frankfurt.de/en?locale=en)\n",
    "\n",
    "[Aaron Reer](https://github.com/AaronReer)\n",
    "Data Scientist - [ANCPLab](https://uol.de/en/applied-neurocognitive-psychology), [Department of Psychology](https://uol.de/en/psychology) at [Carl-von-Ossietzky University Oldenburg](https://uol.de/)\n",
    "\n",
    "[Peer Herholz (he/him)](https://peerherholz.github.io/)  \n",
    "Research affiliate - [NeuroDataScience lab](https://neurodatascience.github.io/) at [MNI](https://www.mcgill.ca/neuro/)/[MIT](https://www.mit.edu/)  \n",
    "Member - [BIDS](https://bids-specification.readthedocs.io/en/stable/), [ReproNim](https://www.repronim.org/), [Brainhack](https://brainhack.org/), [Neuromod](https://www.cneuromod.ca/), [OHBM SEA-SIG](https://ohbm-environment.org/), [UNIQUE](https://sites.google.com/view/unique-neuro-ai)  \n",
    "\n",
    "<img align=\"left\" src=\"https://raw.githubusercontent.com/G0RELLA/gorella_mwn/master/lecture/static/Twitter%20social%20icons%20-%20circle%20-%20blue.png\" alt=\"logo\" title=\"Twitter\" width=\"32\" height=\"20\" /> <img align=\"left\" src=\"https://raw.githubusercontent.com/G0RELLA/gorella_mwn/master/lecture/static/GitHub-Mark-120px-plus.png\" alt=\"logo\" title=\"Github\" width=\"30\" height=\"20\" />   &nbsp;&nbsp;@peerherholz "
   ]
  },
  {
   "cell_type": "markdown",
   "metadata": {
    "slideshow": {
     "slide_type": "slide"
    }
   },
   "source": [
    "## References\n",
    "\n",
    "There are lots of excellent resources online for learning more about bash:\n",
    "\n",
    "* The GNU Manual is *the* reference for all bash commands: http://www.gnu.org/manual/manual.html\n",
    "* \"Learning the Bash Shell\" book: http://shop.oreilly.com/product/9780596009656.do\n",
    "* An interactive on-line bash shell course: https://www.learnshell.org/"
   ]
  },
  {
   "cell_type": "markdown",
   "metadata": {
    "slideshow": {
     "slide_type": "slide"
    }
   },
   "source": [
    "## Goals\n",
    "\n",
    "* learn basic and efficient usage of the shell for various tasks\n",
    "    * navigating directories\n",
    "    * file handling: copy, paste, create, delete"
   ]
  },
  {
   "cell_type": "markdown",
   "metadata": {
    "slideshow": {
     "slide_type": "slide"
    }
   },
   "source": [
    "## What is the \"shell\"?\n",
    "\n",
    "* The shell is a **command-line interface** (CLI) to your computer\n",
    "    * This is in contrast to the **graphical user interfaces** (GUIs) that you normally use!\n",
    "* The shell is _also_ a scripting language that can be used to automate repetitive tasks"
   ]
  },
  {
   "cell_type": "markdown",
   "metadata": {
    "slideshow": {
     "slide_type": "subslide"
    }
   },
   "source": [
    "### But what's this \"bash shell\"?\n",
    "\n",
    "It's one of many available shells!\n",
    "\n",
    "* `sh` - Bourne **SH**ell\n",
    "* `ksh` - **K**orn **SH**ell\n",
    "* `dash` - **D**ebian **A**lmquist **SH**ell\n",
    "* `csh` - **C** **SH**ell\n",
    "* `tcsh` - **T**ENEX **C** **SH**ell\n",
    "* `zsh` - **Z** **SH**ell\n",
    "* `bash` - **B**ourne **A**gain **SH**ell  <-- We'll focus on this one!"
   ]
  },
  {
   "cell_type": "markdown",
   "metadata": {
    "slideshow": {
     "slide_type": "slide"
    }
   },
   "source": [
    "### WHY so many?\n"
   ]
  },
  {
   "cell_type": "markdown",
   "metadata": {
    "slideshow": {
     "slide_type": "fragment"
    }
   },
   "source": [
    "* They all have different strengths / weaknesses\n",
    "* You will see many of them throughout much of neuroimaging software, too!\n",
    "    * `sh` is most frequently used in FSL (FMRIB Software Library)\n",
    "    * `csh`/`tcsh` is very common in FreeSurfer and AFNI (Analysis of Functional NeuroImages)"
   ]
  },
  {
   "cell_type": "markdown",
   "metadata": {
    "slideshow": {
     "slide_type": "subslide"
    }
   },
   "source": [
    "### So we're going to focus on the bash shell?\n",
    "\n",
    "Yes! It's perhaps **the most common** shell, available on almost every OS:\n",
    "\n",
    "* It's the default shell on most Linux systems\n",
    "* It's the default shell in the Windows Subsytem for Linux (WSL)\n",
    "* It's the default shell on Mac <=10.14\n",
    "    * `zsh` is the new default on Mac Catalina (for licensing reasons 🙄)\n",
    "    * But `bash` is still available!!"
   ]
  },
  {
   "cell_type": "markdown",
   "metadata": {
    "slideshow": {
     "slide_type": "subslide"
    }
   },
   "source": [
    "### Alright, but why use the shell at all?\n",
    "\n",
    "Isn't the GUI good enough?\n",
    "\n",
    "* Yes, but the shell is **very powerful**\n",
    "* Sequences of shell commands can be strung together to quickly and reproducibly make powerful pipelines\n",
    "* Also, you need to use the shell to accesss remote machines/high-performance computing environments (like Compute Canada or the local Goethe-Cluster)"
   ]
  },
  {
   "cell_type": "markdown",
   "metadata": {
    "slideshow": {
     "slide_type": "fragment"
    }
   },
   "source": [
    "**NOTE:** We will not be able to cover all (or even most) aspects of the shell today. \n",
    "\n",
    "But, we'll get through some _basics_ that you can build on going forward."
   ]
  },
  {
   "cell_type": "markdown",
   "metadata": {
    "slideshow": {
     "slide_type": "slide"
    }
   },
   "source": [
    "## The (bash) shell\n",
    "\n",
    "Now, let's open up your terminal! \n",
    "\n",
    "* **Windows**: Open the Ubuntu application (Windows doesn't come with a pre-installed shell, so make sure to that you have WSL installed or check back with the [installation instructions in our setup](link to page)!)\n",
    "\n",
    "* **Mac/Linux**: Open the Terminal (Command + Space Bar / Ctrl + Alt + t)"
   ]
  },
  {
   "cell_type": "markdown",
   "metadata": {
    "slideshow": {
     "slide_type": "fragment"
    }
   },
   "source": [
    "\n",
    "When the shell is first opened, you are presented with a prompt, indicating that the shell is waiting for input:\n",
    "\n",
    "```\n",
    "$\n",
    "```\n",
    "\n",
    "The shell typically uses `$` as the prompt, but may use a different symbol.\n",
    "\n",
    "**IMPORTANT:** When typing commands, either in this lesson or from other sources, **do not type the prompt**, only the commands that follow it!"
   ]
  },
  {
   "cell_type": "markdown",
   "metadata": {
    "slideshow": {
     "slide_type": "subslide"
    }
   },
   "source": [
    "### Am I using bash?\n",
    "\n",
    "Let's check! You can use the following command to determine what shell you're using:"
   ]
  },
  {
   "cell_type": "code",
   "execution_count": 1,
   "metadata": {
    "slideshow": {
     "slide_type": "fragment"
    }
   },
   "outputs": [
    {
     "name": "stdout",
     "output_type": "stream",
     "text": [
      "/bin/bash\n"
     ]
    }
   ],
   "source": [
    "echo $SHELL"
   ]
  },
  {
   "cell_type": "markdown",
   "metadata": {
    "slideshow": {
     "slide_type": "subslide"
    }
   },
   "source": [
    "If that doesn't say something like `/bin/bash`,\n",
    "\n",
    "- then simply type `bash`, press `Enter`, and try running the command again\n",
    "- there might be other ways depending on your `OS/installation`, **please let us know**\n",
    "\n",
    "**Note**: The `echo` command does exactly what its name implies: it simply echoes whatever we provide it to the screen!\n",
    "\n",
    "(It's like `print` in Python / R or `disp` in MATLAB or `printf` in C or ...)"
   ]
  },
  {
   "cell_type": "markdown",
   "metadata": {
    "slideshow": {
     "slide_type": "subslide"
    }
   },
   "source": [
    "### What's with the `$SHELL`?\n",
    "\n",
    "* Things prefixed with `$` in bash are (mostly) **environmental variables** \n",
    "    * All programming languages have variables!\n",
    "* We can assign variables in bash but when we want to reference them we need to add the `$` prefix\n",
    "* We'll dig into this a bit more later, but by default our shell comes with some preset variables\n",
    "    * `$SHELL` is one of them!"
   ]
  },
  {
   "cell_type": "markdown",
   "metadata": {
    "slideshow": {
     "slide_type": "subslide"
    }
   },
   "source": [
    "Soooo, let's try our ~first~ second command in bash!\n",
    "\n",
    "The [ls](link to ls documenation) command lists the contents of our current directory:"
   ]
  },
  {
   "cell_type": "code",
   "execution_count": 5,
   "metadata": {
    "slideshow": {
     "slide_type": "fragment"
    }
   },
   "outputs": [
    {
     "name": "stdout",
     "output_type": "stream",
     "text": [
      "Screenshot 2024-03-04 at 16.04.25.png  \u001b[34mdocker_mne\u001b[m\u001b[m/\n",
      "\u001b[34manalyses\u001b[m\u001b[m/                              \u001b[34mrand\u001b[m\u001b[m/\n",
      "colorblind_plotting.ipynb              setup_bu.md\n"
     ]
    }
   ],
   "source": [
    "ls"
   ]
  },
  {
   "cell_type": "markdown",
   "metadata": {
    "slideshow": {
     "slide_type": "subslide"
    }
   },
   "source": [
    "What happens if we make a typo? Or if the program we want isn't installed on our computer?\n",
    "\n",
    "Will the computer magically understand what we were trying to do?"
   ]
  },
  {
   "cell_type": "code",
   "execution_count": 6,
   "metadata": {
    "slideshow": {
     "slide_type": "fragment"
    }
   },
   "outputs": [
    {
     "ename": "NameError",
     "evalue": "name 'ks' is not defined",
     "output_type": "error",
     "traceback": [
      "\u001b[0;31m---------------------------------------------------------------------------\u001b[0m",
      "\u001b[0;31mNameError\u001b[0m                                 Traceback (most recent call last)",
      "Cell \u001b[0;32mIn[6], line 1\u001b[0m\n\u001b[0;32m----> 1\u001b[0m \u001b[43mks\u001b[49m\n",
      "\u001b[0;31mNameError\u001b[0m: name 'ks' is not defined"
     ]
    }
   ],
   "source": [
    "ks"
   ]
  },
  {
   "cell_type": "markdown",
   "metadata": {
    "slideshow": {
     "slide_type": "fragment"
    }
   },
   "source": [
    "Nope! But you will get a (moderately) helpful error message 😁"
   ]
  },
  {
   "cell_type": "markdown",
   "metadata": {
    "slideshow": {
     "slide_type": "subslide"
    }
   },
   "source": [
    "### The cons of the CLI\n",
    "\n",
    "* You need to know the names of the commands you want to run!\n",
    "* Sometimes, commands are not immediately obvious\n",
    "    * E.g., why `ls` over `list_contents`?"
   ]
  },
  {
   "cell_type": "markdown",
   "metadata": {
    "slideshow": {
     "slide_type": "subslide"
    }
   },
   "source": [
    "### Key Points\n",
    "\n",
    "* A shell is a program whose primary purpose is to accept commands and run programs\n",
    "* The shell’s main advantages are its high action-to-keystroke ratio, its support for automating repetitive tasks, and its capacity to access remote machines\n",
    "* The shell’s main disadvantages are its primarily textual nature and how cryptic its commands and operation can be"
   ]
  },
  {
   "cell_type": "markdown",
   "metadata": {
    "slideshow": {
     "slide_type": "slide"
    }
   },
   "source": [
    "## Navigating Files and Directories\n",
    "\n",
    "* The **file system** is the part of our operating system for managing files and directories\n",
    "* There are a lot of commands to create/inspect/rename/delete files + directories\n",
    "    * Indeed these are perhaps the most common commands you'll be using in the shell!"
   ]
  },
  {
   "cell_type": "markdown",
   "metadata": {
    "slideshow": {
     "slide_type": "subslide"
    }
   },
   "source": [
    "### So where are we right now?\n",
    "\n",
    "* When we open our terminal we are placed *somewhere* in the file system!\n",
    "    * At any time while using the shell we are in exactly one place\n",
    "* Commands mostly read / write / operate on files wherever we are, so it's important to know that!\n",
    "* We can find our **current working directory** with the following command:"
   ]
  },
  {
   "cell_type": "code",
   "execution_count": 7,
   "metadata": {
    "slideshow": {
     "slide_type": "fragment"
    }
   },
   "outputs": [
    {
     "data": {
      "text/plain": [
       "'/Users/me/Desktop'"
      ]
     },
     "execution_count": 7,
     "metadata": {},
     "output_type": "execute_result"
    }
   ],
   "source": [
    "pwd"
   ]
  },
  {
   "cell_type": "markdown",
   "metadata": {
    "slideshow": {
     "slide_type": "fragment"
    }
   },
   "source": [
    "* Many bash commands are acronyms or abbreviations (to try and help you remember them).\n",
    "    * The above command, `pwd`, is an acronym for \"**p**rint **w**orking **d**irectory\""
   ]
  },
  {
   "cell_type": "markdown",
   "metadata": {
    "slideshow": {
     "slide_type": "subslide"
    }
   },
   "source": [
    "### OS-dependent paths\n",
    "\n",
    "* The printed directory may look different depending on your operating system\n",
    "    * Though if you're all on Linux / Mac / WSL it _should_ look something like the above...\n",
    "* On Windows you may see something like: `C:\\Users\\grogu`\n",
    "    * We'll be assuming the `/Users/grogu` notation for the rest of these examples!"
   ]
  },
  {
   "cell_type": "markdown",
   "metadata": {
    "slideshow": {
     "slide_type": "subslide"
    }
   },
   "source": [
    "### The file system\n",
    "Let's take a look at an example file-system:\n",
    "<img src=\"http://swcarpentry.github.io/shell-novice/fig/filesystem.svg\" width=\"400px\" style=\"margin-bottom: 10px;float: right\">\n",
    "\n",
    "* The top is the **root directory**, which holds the ENTIRE FILE SYSTEM. \n",
    "* Inside are several other directories:\n",
    "    * `bin` contains some built-in programs\n",
    "    * `data` is where we store miscellaneous data files\n",
    "    * `Users` is where personal user directories are\n",
    "    * `tmp` is for temporary storage of files\n",
    "* Our current directory is inside `Users`!\n"
   ]
  },
  {
   "cell_type": "markdown",
   "metadata": {
    "slideshow": {
     "slide_type": "subslide"
    }
   },
   "source": [
    "### The file system\n",
    "Let's take a look at an example file-system:\n",
    "<img src=\"http://swcarpentry.github.io/shell-novice/fig/filesystem.svg\" width=\"400px\" style=\"margin-bottom: 10px;float: right\">\n",
    "\n",
    "\n",
    "#### The `/` character\n",
    "\n",
    "* Refers to the root directory when it appears at the start of a path\n",
    "* Is used as a separator between directories when it appears inside a path"
   ]
  },
  {
   "cell_type": "markdown",
   "metadata": {
    "slideshow": {
     "slide_type": "subslide"
    }
   },
   "source": [
    "### Inside `Users`\n",
    "* The `Users` directory contains different folders for the different users on your computer\n",
    "* If you are the only user on your computer then there is likely only one!\n",
    "    * But shared computers can have multiple\n",
    "* When you open a new terminal it defaults to your home directory (e.g., `/Users/nelle` or `/Users/grogu`)\n",
    "\n",
    "<img src=\"http://swcarpentry.github.io/shell-novice/fig/home-directories.svg\" width=\"400px\" style=\"margin-bottom: 10px;float: right\">\n"
   ]
  },
  {
   "cell_type": "markdown",
   "metadata": {
    "slideshow": {
     "slide_type": "subslide"
    }
   },
   "source": [
    "So let's remind ourselves how to see where we are and figure out what's in our directory:"
   ]
  },
  {
   "cell_type": "code",
   "execution_count": 8,
   "metadata": {
    "slideshow": {
     "slide_type": "fragment"
    }
   },
   "outputs": [
    {
     "data": {
      "text/plain": [
       "'/Users/me/Desktop'"
      ]
     },
     "execution_count": 8,
     "metadata": {},
     "output_type": "execute_result"
    }
   ],
   "source": [
    "pwd"
   ]
  },
  {
   "cell_type": "markdown",
   "metadata": {
    "slideshow": {
     "slide_type": "subslide"
    }
   },
   "source": [
    "`ls`, as we saw before, prints the contents of your **current working directory**. \n",
    "\n",
    "We can make it tell us a bit more information about our directory by providing an **option** to the `ls` command:"
   ]
  },
  {
   "cell_type": "markdown",
   "metadata": {
    "slideshow": {
     "slide_type": "subslide"
    }
   },
   "source": [
    "(Your results are likely different than this!)"
   ]
  },
  {
   "cell_type": "code",
   "execution_count": 9,
   "metadata": {
    "slideshow": {
     "slide_type": "fragment"
    }
   },
   "outputs": [
    {
     "name": "stdout",
     "output_type": "stream",
     "text": [
      "Screenshot 2024-03-04 at 16.04.25.png  \u001b[34mdocker_mne\u001b[m\u001b[m/\n",
      "\u001b[34manalyses\u001b[m\u001b[m/                              \u001b[34mrand\u001b[m\u001b[m/\n",
      "colorblind_plotting.ipynb              setup_bu.md\n"
     ]
    }
   ],
   "source": [
    "ls"
   ]
  },
  {
   "cell_type": "markdown",
   "metadata": {
    "slideshow": {
     "slide_type": "subslide"
    }
   },
   "source": [
    "### General syntax of a shell command\n",
    "\n",
    "Consider this command as a general example:"
   ]
  },
  {
   "cell_type": "code",
   "execution_count": 6,
   "metadata": {
    "slideshow": {
     "slide_type": "fragment"
    }
   },
   "outputs": [
    {
     "name": "stdout",
     "output_type": "stream",
     "text": [
      "\u001b[0m\u001b[01;36mbin\u001b[0m@    \u001b[01;34mdev\u001b[0m/   \u001b[01;36mlib\u001b[0m@    \u001b[01;36mlibx32\u001b[0m@      \u001b[01;34mmnt\u001b[0m/   \u001b[01;34mroot\u001b[0m/  \u001b[01;34msnap\u001b[0m/     \u001b[01;34msys\u001b[0m/  \u001b[01;34mvar\u001b[0m/\r\n",
      "\u001b[01;34mboot\u001b[0m/   \u001b[01;34metc\u001b[0m/   \u001b[01;36mlib32\u001b[0m@  \u001b[01;34mlost+found\u001b[0m/  \u001b[01;34mopt\u001b[0m/   \u001b[01;34mrun\u001b[0m/   \u001b[01;34msrv\u001b[0m/      \u001b[30;42mtmp\u001b[0m/\r\n",
      "\u001b[01;34mcdrom\u001b[0m/  \u001b[01;34mhome\u001b[0m/  \u001b[01;36mlib64\u001b[0m@  \u001b[01;34mmedia\u001b[0m/       \u001b[01;34mproc\u001b[0m/  \u001b[01;36msbin\u001b[0m@  swapfile  \u001b[01;34musr\u001b[0m/\r\n"
     ]
    }
   ],
   "source": [
    "ls -F /"
   ]
  },
  {
   "cell_type": "markdown",
   "metadata": {
    "slideshow": {
     "slide_type": "fragment"
    }
   },
   "source": [
    "We have:\n",
    "\n",
    "1. A **command** (`ls`), \n",
    "2. An **option** (`-F`), also called a **flag** or a **switch**, and\n",
    "3. An **argument** (`/`)"
   ]
  },
  {
   "cell_type": "markdown",
   "metadata": {
    "slideshow": {
     "slide_type": "subslide"
    }
   },
   "source": [
    "#### Options (a.k.a. flags, switches)\n",
    "\n",
    "* Options change the behavior of a command\n",
    "* They generally start with either a `-` or `--`\n",
    "* They are case sensitive!"
   ]
  },
  {
   "cell_type": "markdown",
   "metadata": {
    "slideshow": {
     "slide_type": "fragment"
    }
   },
   "source": [
    "For example, `ls -s` will display the size of the contents of the provided directory:"
   ]
  },
  {
   "cell_type": "code",
   "execution_count": 13,
   "metadata": {},
   "outputs": [
    {
     "name": "stdout",
     "output_type": "stream",
     "text": [
      "total 8\n",
      "8 Dockerfile\n"
     ]
    }
   ],
   "source": [
    "ls -s /Users/me/Desktop/docker_mne/"
   ]
  },
  {
   "cell_type": "markdown",
   "metadata": {
    "slideshow": {
     "slide_type": "subslide"
    }
   },
   "source": [
    "Whereas `ls -S` will sort the contents of the provided directory *by size*:"
   ]
  },
  {
   "cell_type": "markdown",
   "metadata": {
    "slideshow": {
     "slide_type": "subslide"
    }
   },
   "source": [
    "#### Options (cont'd)\n",
    "\n",
    "What happens if I type an invalid option?"
   ]
  },
  {
   "cell_type": "code",
   "execution_count": 14,
   "metadata": {
    "slideshow": {
     "slide_type": "fragment"
    }
   },
   "outputs": [
    {
     "name": "stdout",
     "output_type": "stream",
     "text": [
      "ls: invalid option -- j\n",
      "usage: ls [-@ABCFGHILOPRSTUWabcdefghiklmnopqrstuvwxy1%,] [--color=when] [-D format] [file ...]\n"
     ]
    }
   ],
   "source": [
    "ls -j"
   ]
  },
  {
   "cell_type": "markdown",
   "metadata": {
    "slideshow": {
     "slide_type": "fragment"
    }
   },
   "source": [
    "Again, we get a (somewhat) helpful error message!"
   ]
  },
  {
   "cell_type": "markdown",
   "metadata": {
    "slideshow": {
     "slide_type": "subslide"
    }
   },
   "source": [
    "#### Arguments (a.k.a parameters)\n",
    "\n",
    "* These tell the command what to operate on!\n",
    "* They are only *sometimes* optional (as with `ls`)\n",
    "    * In these cases, providing them will also change the behavior of the command!"
   ]
  },
  {
   "cell_type": "code",
   "execution_count": 17,
   "metadata": {
    "slideshow": {
     "slide_type": "fragment"
    }
   },
   "outputs": [
    {
     "name": "stdout",
     "output_type": "stream",
     "text": [
      "Screenshot 2024-03-04 at 16.04.25.png  \u001b[34mdocker_mne\u001b[m\u001b[m/\n",
      "\u001b[34manalyses\u001b[m\u001b[m/                              \u001b[34mrand\u001b[m\u001b[m/\n",
      "colorblind_plotting.ipynb              setup_bu.md\n"
     ]
    }
   ],
   "source": [
    "ls"
   ]
  },
  {
   "cell_type": "code",
   "execution_count": 18,
   "metadata": {
    "slideshow": {
     "slide_type": "subslide"
    }
   },
   "outputs": [
    {
     "name": "stdout",
     "output_type": "stream",
     "text": [
      "Screenshot 2024-03-04 at 16.04.25.png  \u001b[34mdocker_mne\u001b[m\u001b[m/\n",
      "\u001b[34manalyses\u001b[m\u001b[m/                              \u001b[34mrand\u001b[m\u001b[m/\n",
      "colorblind_plotting.ipynb              setup_bu.md\n"
     ]
    }
   ],
   "source": [
    "ls /Users/me/Desktop/"
   ]
  },
  {
   "cell_type": "markdown",
   "metadata": {
    "slideshow": {
     "slide_type": "subslide"
    }
   },
   "source": [
    "#### Getting help\n",
    "\n",
    "`ls` has **lots** of options. How can we find out about them?\n",
    "\n",
    "Either `man ls` or `ls --help`!  \n",
    "This will vary depending on: (1) the command and (2) your operating system!  \n",
    "Generally try `man` first:"
   ]
  },
  {
   "cell_type": "code",
   "execution_count": 19,
   "metadata": {
    "scrolled": true,
    "slideshow": {
     "slide_type": "fragment"
    }
   },
   "outputs": [
    {
     "data": {
      "text/plain": [
       "Unknown locale, assuming C\n",
       "LS(1)\t\t\t    General Commands Manual\t\t\t LS(1)\n",
       "\n",
       "NAME\n",
       "     ls – list directory contents\n",
       "\n",
       "SYNOPSIS\n",
       "     ls [-@ABCFGHILOPRSTUWabcdefghiklmnopqrstuvwxy1%,] [--color=when]\n",
       "\t[-D format] [file ...]\n",
       "\n",
       "DESCRIPTION\n",
       "     For each operand that names a file of a type other than directory, ls\n",
       "     displays its name as well as any requested, associated information.  For\n",
       "     each operand that names a file of type directory, ls displays the names\n",
       "     of files contained within that directory, as well as any requested,\n",
       "     associated information.\n",
       "\n",
       "     If no operands are given, the contents of the current directory are\n",
       "     displayed.  If more than one operand is given, non-directory operands are\n",
       "     displayed first; directory and non-directory operands are sorted\n",
       "     separately and in lexicographical order.\n",
       "\n",
       "     The following options are available:\n",
       "\n",
       "     -@      Display extended attribute keys and sizes in long (-l) output.\n",
       "\n",
       "     -A      Include directory entries whose names begin with a dot (‘.’)\n",
       "\t     except for . and ...  Automatically set for the super-user unless\n",
       "\t     -I is specified.\n",
       "\n",
       "     -B      Force printing of non-printable characters (as defined by\n",
       "\t     ctype(3) and current locale settings) in file names as \\xxx,\n",
       "\t     where xxx is the numeric value of the character in octal.\tThis\n",
       "\t     option is not defined in IEEE Std 1003.1-2008 (“POSIX.1”).\n",
       "\n",
       "     -C      Force multi-column output; this is the default when output is to\n",
       "\t     a terminal.\n",
       "\n",
       "     -D format\n",
       "\t     When printing in the long (-l) format, use format to format the\n",
       "\t     date and time output.  The argument format is a string used by\n",
       "\t     strftime(3).  Depending on the choice of format string, this may\n",
       "\t     result in a different number of columns in the output.  This\n",
       "\t     option overrides the -T option.  This option is not defined in\n",
       "\t     IEEE Std 1003.1-2008 (“POSIX.1”).\n",
       "\n",
       "     -F      Display a slash (‘/’) immediately after each pathname that is a\n",
       "\t     directory, an asterisk (‘*’) after each that is executable, an at\n",
       "\t     sign (‘@’) after each symbolic link, an equals sign (‘=’) after\n",
       "\t     each socket, a percent sign (‘%’) after each whiteout, and a\n",
       "\t     vertical bar (‘|’) after each that is a FIFO.\n",
       "\n",
       "     -G      Enable colorized output.  This option is equivalent to defining\n",
       "\t     CLICOLOR or COLORTERM in the environment and setting\n",
       "\t     --color=auto.  (See below.)  This functionality can be compiled\n",
       "\t     out by removing the definition of COLORLS.  This option is not\n",
       "\t     defined in IEEE Std 1003.1-2008 (“POSIX.1”).\n",
       "\n",
       "     -H      Symbolic links on the command line are followed.  This option is\n",
       "\t     assumed if none of the -F, -d, or -l options are specified.\n",
       "\n",
       "     -I      Prevent -A from being automatically set for the super-user.  This\n",
       "\t     option is not defined in IEEE Std 1003.1-2008 (“POSIX.1”).\n",
       "\n",
       "     -L      Follow all symbolic links to final target and list the file or\n",
       "\t     directory the link references rather than the link itself.  This\n",
       "\t     option cancels the -P option.\n",
       "\n",
       "     -O      Include the file flags in a long (-l) output.  This option is\n",
       "\t     incompatible with IEEE Std 1003.1-2008 (“POSIX.1”).  See\n",
       "\t     chflags(1) for a list of file flags and their meanings.\n",
       "\n",
       "     -P      If argument is a symbolic link, list the link itself rather than\n",
       "\t     the object the link references.  This option cancels the -H and\n",
       "\t     -L options.\n",
       "\n",
       "     -R      Recursively list subdirectories encountered.\n",
       "\n",
       "     -S      Sort by size (largest file first) before sorting the operands in\n",
       "\t     lexicographical order.\n",
       "\n",
       "     -T      When printing in the long (-l) format, display complete time\n",
       "\t     information for the file, including month, day, hour, minute,\n",
       "\t     second, and year.\tThe -D option gives even more control over the\n",
       "\t     output format.  This option is not defined in IEEE Std\n",
       "\t     1003.1-2008 (“POSIX.1”).\n",
       "\n",
       "     -U      Use time when file was created for sorting or printing.  This\n",
       "\t     option is not defined in IEEE Std 1003.1-2008 (“POSIX.1”).\n",
       "\n",
       "     -W      Display whiteouts when scanning directories.  This option is not\n",
       "\t     defined in IEEE Std 1003.1-2008 (“POSIX.1”).\n",
       "\n",
       "     -a      Include directory entries whose names begin with a dot (‘.’).\n",
       "\n",
       "     -b      As -B, but use C escape codes whenever possible.  This option is\n",
       "\t     not defined in IEEE Std 1003.1-2008 (“POSIX.1”).\n",
       "\n",
       "     -c      Use time when file status was last changed for sorting or\n",
       "\t     printing.\n",
       "\n",
       "     --color=when\n",
       "\t     Output colored escape sequences based on when, which may be set\n",
       "\t     to either always, auto, or never.\n",
       "\n",
       "\t     always will make ls always output color.  If TERM is unset or set\n",
       "\t     to an invalid terminal, then ls will fall back to explicit ANSI\n",
       "\t     escape sequences without the help of termcap(5).  always is the\n",
       "\t     default if --color is specified without an argument.\n",
       "\n",
       "\t     auto will make ls output escape sequences based on termcap(5),\n",
       "\t     but only if stdout is a tty and either the -G flag is specified\n",
       "\t     or the COLORTERM environment variable is set and not empty.\n",
       "\n",
       "\t     never will disable color regardless of environment variables.\n",
       "\t     never is the default when neither --color nor -G is specified.\n",
       "\n",
       "\t     For compatibility with GNU coreutils, ls supports yes or force as\n",
       "\t     equivalent to always, no or none as equivalent to never, and tty\n",
       "\t     or if-tty as equivalent to auto.\n",
       "\n",
       "     -d      Directories are listed as plain files (not searched recursively).\n",
       "\n",
       "     -e      Print the Access Control List (ACL) associated with the file, if\n",
       "\t     present, in long (-l) output.\n",
       "\n",
       "     -f      Output is not sorted.  This option turns on -a.  It also negates\n",
       "\t     the effect of the -r, -S and -t options.  As allowed by IEEE Std\n",
       "\t     1003.1-2008 (“POSIX.1”), this option has no effect on the -d, -l,\n",
       "\t     -R and -s options.\n",
       "\n",
       "     -g      This option has no effect.  It is only available for\n",
       "\t     compatibility with 4.3BSD, where it was used to display the group\n",
       "\t     name in the long (-l) format output.  This option is incompatible\n",
       "\t     with IEEE Std 1003.1-2008 (“POSIX.1”).\n",
       "\n",
       "     -h      When used with the -l option, use unit suffixes: Byte, Kilobyte,\n",
       "\t     Megabyte, Gigabyte, Terabyte and Petabyte in order to reduce the\n",
       "\t     number of digits to four or fewer using base 2 for sizes.\tThis\n",
       "\t     option is not defined in IEEE Std 1003.1-2008 (“POSIX.1”).\n",
       "\n",
       "     -i      For each file, print the file's file serial number (inode\n",
       "\t     number).\n",
       "\n",
       "     -k      This has the same effect as setting environment variable\n",
       "\t     BLOCKSIZE to 1024, except that it also nullifies any -h options\n",
       "\t     to its left.\n",
       "\n",
       "     -l      (The lowercase letter “ell”.) List files in the long format, as\n",
       "\t     described in the The Long Format subsection below.\n",
       "\n",
       "     -m      Stream output format; list files across the page, separated by\n",
       "\t     commas.\n",
       "\n",
       "     -n      Display user and group IDs numerically rather than converting to\n",
       "\t     a user or group name in a long (-l) output.  This option turns on\n",
       "\t     the -l option.\n",
       "\n",
       "     -o      List in long format, but omit the group id.\n",
       "\n",
       "     -p      Write a slash (‘/’) after each filename if that file is a\n",
       "\t     directory.\n",
       "\n",
       "     -q      Force printing of non-graphic characters in file names as the\n",
       "\t     character ‘?’; this is the default when output is to a terminal.\n",
       "\n",
       "     -r      Reverse the order of the sort.\n",
       "\n",
       "     -s      Display the number of blocks used in the file system by each\n",
       "\t     file.  Block sizes and directory totals are handled as described\n",
       "\t     in The Long Format subsection below, except (if the long format\n",
       "\t     is not also requested) the directory totals are not output when\n",
       "\t     the output is in a single column, even if multi-column output is\n",
       "\t     requested.  (-l) format, display complete time information for\n",
       "\t     the file, including month, day, hour, minute, second, and year.\n",
       "\t     The -D option gives even more control over the output format.\n",
       "\t     This option is not defined in IEEE Std 1003.1-2008 (“POSIX.1”).\n",
       "\n",
       "     -t      Sort by descending time modified (most recently modified first).\n",
       "\t     If two files have the same modification timestamp, sort their\n",
       "\t     names in ascending lexicographical order.\tThe -r option reverses\n",
       "\t     both of these sort orders.\n",
       "\n",
       "\t     Note that these sort orders are contradictory: the time sequence\n",
       "\t     is in descending order, the lexicographical sort is in ascending\n",
       "\t     order.  This behavior is mandated by IEEE Std 1003.2 (“POSIX.2”).\n",
       "\t     This feature can cause problems listing files stored with\n",
       "\t     sequential names on FAT file systems, such as from digital\n",
       "\t     cameras, where it is possible to have more than one image with\n",
       "\t     the same timestamp.  In such a case, the photos cannot be listed\n",
       "\t     in the sequence in which they were taken.\tTo ensure the same\n",
       "\t     sort order for time and for lexicographical sorting, set the\n",
       "\t     environment variable LS_SAMESORT or use the -y option.  This\n",
       "\t     causes ls to reverse the lexicographical sort order when sorting\n",
       "\t     files with the same modification timestamp.\n",
       "\n",
       "     -u      Use time of last access, instead of time of last modification of\n",
       "\t     the file for sorting (-t) or long printing (-l).\n",
       "\n",
       "     -v      Force unedited printing of non-graphic characters; this is the\n",
       "\t     default when output is not to a terminal.\n",
       "\n",
       "     -w      Force raw printing of non-printable characters.  This is the\n",
       "\t     default when output is not to a terminal.\tThis option is not\n",
       "\t     defined in IEEE Std 1003.1-2001 (“POSIX.1”).\n",
       "\n",
       "     -x      The same as -C, except that the multi-column output is produced\n",
       "\t     with entries sorted across, rather than down, the columns.\n",
       "\n",
       "     -y      When the -t option is set, sort the alphabetical output in the\n",
       "\t     same order as the time output.  This has the same effect as\n",
       "\t     setting LS_SAMESORT.  See the description of the -t option for\n",
       "\t     more details.  This option is not defined in IEEE Std 1003.1-2001\n",
       "\t     (“POSIX.1”).\n",
       "\n",
       "     -%      Distinguish dataless files and directories with a '%' character\n",
       "\t     in long (-l) output, and don't materialize dataless directories\n",
       "\t     when listing them.\n",
       "\n",
       "     -1      (The numeric digit “one”.) Force output to be one entry per line.\n",
       "\t     This is the default when output is not to a terminal.\n",
       "\n",
       "     -,      (Comma) When the -l option is set, print file sizes grouped and\n",
       "\t     separated by thousands using the non-monetary separator returned\n",
       "\t     by localeconv(3), typically a comma or period.  If no locale is\n",
       "\t     set, or the locale does not have a non-monetary separator, this\n",
       "\t     option has no effect.  This option is not defined in IEEE Std\n",
       "\t     1003.1-2001 (“POSIX.1”).\n",
       "\n",
       "     The -1, -C, -x, and -l options all override each other; the last one\n",
       "     specified determines the format used.\n",
       "\n",
       "     The -c, -u, and -U options all override each other; the last one\n",
       "     specified determines the file time used.\n",
       "\n",
       "     The -S and -t options override each other; the last one specified\n",
       "     determines the sort order used.\n",
       "\n",
       "     The -B, -b, -w, and -q options all override each other; the last one\n",
       "     specified determines the format used for non-printable characters.\n",
       "\n",
       "     The -H, -L and -P options all override each other (either partially or\n",
       "     fully); they are applied in the order specified.\n",
       "\n",
       "     By default, ls lists one entry per line to standard output; the\n",
       "     exceptions are to terminals or when the -C or -x options are specified.\n",
       "\n",
       "     File information is displayed with one or more ⟨blank⟩s separating the\n",
       "     information associated with the -i, -s, and -l options.\n",
       "\n",
       "   The Long Format\n",
       "     If the -l option is given, the following information is displayed for\n",
       "     each file: file mode, number of links, owner name, group name, number of\n",
       "     bytes in the file, abbreviated month, day-of-month file was last\n",
       "     modified, hour file last modified, minute file last modified, and the\n",
       "     pathname.\tIf the file or directory has extended attributes, the\n",
       "     permissions field printed by the -l option is followed by a '@'\n",
       "     character.  Otherwise, if the file or directory has extended security\n",
       "     information (such as an access control list), the permissions field\n",
       "     printed by the -l option is followed by a '+' character.  If the -%\n",
       "     option is given, a '%' character follows the permissions field for\n",
       "     dataless files and directories, possibly replacing the '@' or '+'\n",
       "     character.\n",
       "\n",
       "     If the modification time of the file is more than 6 months in the past or\n",
       "     future, and the -D or -T are not specified, then the year of the last\n",
       "     modification is displayed in place of the hour and minute fields.\n",
       "\n",
       "     If the owner or group names are not a known user or group name, or the -n\n",
       "     option is given, the numeric ID's are displayed.\n",
       "\n",
       "     If the file is a character special or block special file, the device\n",
       "     number for the file is displayed in the size field.  If the file is a\n",
       "     symbolic link the pathname of the linked-to file is preceded by “->”.\n",
       "\n",
       "     The listing of a directory's contents is preceded by a labeled total\n",
       "     number of blocks used in the file system by the files which are listed as\n",
       "     the directory's contents (which may or may not include . and .. and other\n",
       "     files which start with a dot, depending on other options).\n",
       "\n",
       "     The default block size is 512 bytes.  The block size may be set with\n",
       "     option -k or environment variable BLOCKSIZE.  Numbers of blocks in the\n",
       "     output will have been rounded up so the numbers of bytes is at least as\n",
       "     many as used by the corresponding file system blocks (which might have a\n",
       "     different size).\n",
       "\n",
       "     The file mode printed under the -l option consists of the entry type and\n",
       "     the permissions.  The entry type character describes the type of file, as\n",
       "     follows:\n",
       "\n",
       "\t   -\t Regular file.\n",
       "\t   b\t Block special file.\n",
       "\t   c\t Character special file.\n",
       "\t   d\t Directory.\n",
       "\t   l\t Symbolic link.\n",
       "\t   p\t FIFO.\n",
       "\t   s\t Socket.\n",
       "\t   w\t Whiteout.\n",
       "\n",
       "     The next three fields are three characters each: owner permissions, group\n",
       "     permissions, and other permissions.  Each field has three character\n",
       "     positions:\n",
       "\n",
       "\t   1.\tIf r, the file is readable; if -, it is not readable.\n",
       "\n",
       "\t   2.\tIf w, the file is writable; if -, it is not writable.\n",
       "\n",
       "\t   3.\tThe first of the following that applies:\n",
       "\n",
       "\t\t      S     If in the owner permissions, the file is not\n",
       "\t\t\t    executable and set-user-ID mode is set.  If in the\n",
       "\t\t\t    group permissions, the file is not executable and\n",
       "\t\t\t    set-group-ID mode is set.\n",
       "\n",
       "\t\t      s     If in the owner permissions, the file is\n",
       "\t\t\t    executable and set-user-ID mode is set.  If in the\n",
       "\t\t\t    group permissions, the file is executable and\n",
       "\t\t\t    setgroup-ID mode is set.\n",
       "\n",
       "\t\t      x     The file is executable or the directory is\n",
       "\t\t\t    searchable.\n",
       "\n",
       "\t\t      -     The file is neither readable, writable,\n",
       "\t\t\t    executable, nor set-user-ID nor set-group-ID mode,\n",
       "\t\t\t    nor sticky.  (See below.)\n",
       "\n",
       "\t\tThese next two apply only to the third character in the last\n",
       "\t\tgroup (other permissions).\n",
       "\n",
       "\t\t      T     The sticky bit is set (mode 1000), but not execute\n",
       "\t\t\t    or search permission.  (See chmod(1) or\n",
       "\t\t\t    sticky(7).)\n",
       "\n",
       "\t\t      t     The sticky bit is set (mode 1000), and is\n",
       "\t\t\t    searchable or executable.  (See chmod(1) or\n",
       "\t\t\t    sticky(7).)\n",
       "\n",
       "     The next field contains a plus (‘+’) character if the file has an ACL, or\n",
       "     a space (‘ ’) if it does not.  The ls utility does not show the actual\n",
       "     ACL unless the -e option is used in conjunction with the -l option.\n",
       "\n",
       "ENVIRONMENT\n",
       "     The following environment variables affect the execution of ls:\n",
       "\n",
       "     BLOCKSIZE\t\t If this is set, its value, rounded up to 512 or down\n",
       "\t\t\t to a multiple of 512, will be used as the block size\n",
       "\t\t\t in bytes by the -l and -s options.  See The Long\n",
       "\t\t\t Format subsection for more information.\n",
       "\n",
       "     CLICOLOR\t\t Use ANSI color sequences to distinguish file types.\n",
       "\t\t\t See LSCOLORS below.  In addition to the file types\n",
       "\t\t\t mentioned in the -F option some extra attributes\n",
       "\t\t\t (setuid bit set, etc.) are also displayed.  The\n",
       "\t\t\t colorization is dependent on a terminal type with the\n",
       "\t\t\t proper termcap(5) capabilities.  The default “cons25”\n",
       "\t\t\t console has the proper capabilities, but to display\n",
       "\t\t\t the colors in an xterm(1), for example, the TERM\n",
       "\t\t\t variable must be set to “xterm-color”.  Other\n",
       "\t\t\t terminal types may require similar adjustments.\n",
       "\t\t\t Colorization is silently disabled if the output is\n",
       "\t\t\t not directed to a terminal unless the CLICOLOR_FORCE\n",
       "\t\t\t variable is defined or --color is set to “always”.\n",
       "\n",
       "     CLICOLOR_FORCE\t Color sequences are normally disabled if the output\n",
       "\t\t\t is not directed to a terminal.  This can be\n",
       "\t\t\t overridden by setting this variable.  The TERM\n",
       "\t\t\t variable still needs to reference a color capable\n",
       "\t\t\t terminal however otherwise it is not possible to\n",
       "\t\t\t determine which color sequences to use.\n",
       "\n",
       "     COLORTERM\t\t See description for CLICOLOR above.\n",
       "\n",
       "     COLUMNS\t\t If this variable contains a string representing a\n",
       "\t\t\t decimal integer, it is used as the column position\n",
       "\t\t\t width for displaying multiple-text-column output.\n",
       "\t\t\t The ls utility calculates how many pathname text\n",
       "\t\t\t columns to display based on the width provided.  (See\n",
       "\t\t\t -C and -x.)\n",
       "\n",
       "     LANG\t\t The locale to use when determining the order of day\n",
       "\t\t\t and month in the long -l format output.  See\n",
       "\t\t\t environ(7) for more information.\n",
       "\n",
       "     LSCOLORS\t\t The value of this variable describes what color to\n",
       "\t\t\t use for which attribute when colors are enabled with\n",
       "\t\t\t CLICOLOR or COLORTERM.  This string is a\n",
       "\t\t\t concatenation of pairs of the format fb, where f is\n",
       "\t\t\t the foreground color and b is the background color.\n",
       "\n",
       "\t\t\t The color designators are as follows:\n",
       "\n",
       "\t\t\t       a     black\n",
       "\t\t\t       b     red\n",
       "\t\t\t       c     green\n",
       "\t\t\t       d     brown\n",
       "\t\t\t       e     blue\n",
       "\t\t\t       f     magenta\n",
       "\t\t\t       g     cyan\n",
       "\t\t\t       h     light grey\n",
       "\t\t\t       A     bold black, usually shows up as dark grey\n",
       "\t\t\t       B     bold red\n",
       "\t\t\t       C     bold green\n",
       "\t\t\t       D     bold brown, usually shows up as yellow\n",
       "\t\t\t       E     bold blue\n",
       "\t\t\t       F     bold magenta\n",
       "\t\t\t       G     bold cyan\n",
       "\t\t\t       H     bold light grey; looks like bright white\n",
       "\t\t\t       x     default foreground or background\n",
       "\n",
       "\t\t\t Note that the above are standard ANSI colors.\tThe\n",
       "\t\t\t actual display may differ depending on the color\n",
       "\t\t\t capabilities of the terminal in use.\n",
       "\n",
       "\t\t\t The order of the attributes are as follows:\n",
       "\n",
       "\t\t\t       1.   directory\n",
       "\t\t\t       2.   symbolic link\n",
       "\t\t\t       3.   socket\n",
       "\t\t\t       4.   pipe\n",
       "\t\t\t       5.   executable\n",
       "\t\t\t       6.   block special\n",
       "\t\t\t       7.   character special\n",
       "\t\t\t       8.   executable with setuid bit set\n",
       "\t\t\t       9.   executable with setgid bit set\n",
       "\t\t\t       10.  directory writable to others, with sticky\n",
       "\t\t\t\t    bit\n",
       "\t\t\t       11.  directory writable to others, without\n",
       "\t\t\t\t    sticky bit\n",
       "\n",
       "\t\t\t The default is \"exfxcxdxbxegedabagacad\", i.e., blue\n",
       "\t\t\t foreground and default background for regular\n",
       "\t\t\t directories, black foreground and red background for\n",
       "\t\t\t setuid executables, etc.\n",
       "\n",
       "     LS_COLWIDTHS\t If this variable is set, it is considered to be a\n",
       "\t\t\t colon-delimited list of minimum column widths.\n",
       "\t\t\t Unreasonable and insufficient widths are ignored\n",
       "\t\t\t (thus zero signifies a dynamically sized column).\n",
       "\t\t\t Not all columns have changeable widths.  The fields\n",
       "\t\t\t are, in order: inode, block count, number of links,\n",
       "\t\t\t user name, group name, flags, file size, file name.\n",
       "\n",
       "     LS_SAMESORT\t If this variable is set, the -t option sorts the\n",
       "\t\t\t names of files with the same modification timestamp\n",
       "\t\t\t in the same sense as the time sort.  See the\n",
       "\t\t\t description of the -t option for more details.\n",
       "\n",
       "     TERM\t\t The CLICOLOR and COLORTERM functionality depends on a\n",
       "\t\t\t terminal type with color capabilities.\n",
       "\n",
       "     TZ \t\t The timezone to use when displaying dates.  See\n",
       "\t\t\t environ(7) for more information.\n",
       "\n",
       "EXIT STATUS\n",
       "     The ls utility exits 0 on success, and >0 if an error occurs.\n",
       "\n",
       "EXAMPLES\n",
       "     List the contents of the current working directory in long format:\n",
       "\n",
       "\t   $ ls -l\n",
       "\n",
       "     In addition to listing the contents of the current working directory in\n",
       "     long format, show inode numbers, file flags (see chflags(1)), and suffix\n",
       "     each filename with a symbol representing its file type:\n",
       "\n",
       "\t   $ ls -lioF\n",
       "\n",
       "     List the files in /var/log, sorting the output such that the most\n",
       "     recently modified entries are printed first:\n",
       "\n",
       "\t   $ ls -lt /var/log\n",
       "\n",
       "COMPATIBILITY\n",
       "     The group field is now automatically included in the long listing for\n",
       "     files in order to be compatible with the IEEE Std 1003.2 (“POSIX.2”)\n",
       "     specification.\n",
       "\n",
       "LEGACY DESCRIPTION\n",
       "     In legacy mode, the -f option does not turn on the -a option and the -g,\n",
       "     -n, and -o options do not turn on the -l option.\n",
       "\n",
       "     Also, the -o option causes the file flags to be included in a long (-l)\n",
       "     output; there is no -O option.\n",
       "\n",
       "     When -H is specified (and not overridden by -L or -P) and a file argument\n",
       "     is a symlink that resolves to a non-directory file, the output will\n",
       "     reflect the nature of the link, rather than that of the file.  In legacy\n",
       "     operation, the output will describe the file.\n",
       "\n",
       "     For more information about legacy mode, see compat(5).\n",
       "\n",
       "SEE ALSO\n",
       "     chflags(1), chmod(1), sort(1), xterm(1), localeconv(3), strftime(3),\n",
       "     strmode(3), compat(5), termcap(5), sticky(7), symlink(7)\n",
       "\n",
       "STANDARDS\n",
       "     With the exception of options -g, -n and -o, the ls utility conforms to\n",
       "     IEEE Std 1003.1-2001 (“POSIX.1”) and IEEE Std 1003.1-2008 (“POSIX.1”).\n",
       "     The options -B, -D, -G, -I, -T, -U, -W, -Z, -b, -h, -w, -y and -, are\n",
       "     non-standard extensions.\n",
       "\n",
       "     The ACL support is compatible with IEEE Std 1003.2c (“POSIX.2c”) Draft 17\n",
       "     (withdrawn).\n",
       "\n",
       "HISTORY\n",
       "     An ls command appeared in Version 1 AT&T UNIX.\n",
       "\n",
       "BUGS\n",
       "     To maintain backward compatibility, the relationships between the many\n",
       "     options are quite complex.\n",
       "\n",
       "     The exception mentioned in the -s option description might be a feature\n",
       "     that was based on the fact that single-column output usually goes to\n",
       "     something other than a terminal.  It is debatable whether this is a\n",
       "     design bug.\n",
       "\n",
       "     IEEE Std 1003.2 (“POSIX.2”) mandates opposite sort orders for files with\n",
       "     the same timestamp when sorting with the -t option.\n",
       "\n",
       "macOS 14.3\t\t\tAugust 31, 2020 \t\t    macOS 14.3\n"
      ]
     },
     "metadata": {},
     "output_type": "display_data"
    }
   ],
   "source": [
    "man ls"
   ]
  },
  {
   "cell_type": "markdown",
   "metadata": {
    "slideshow": {
     "slide_type": "subslide"
    }
   },
   "source": [
    "When you run that command in a terminal, your terminal will be turned into a page that can be navigated via:\n",
    "\n",
    "* The `↑` / `↓` arrows (move up/down one line)\n",
    "* The `B` / `Spacebar` keys (move up/down one page), or t\n",
    "* The scroll bar (if you're lucky!)\n",
    "\n",
    "To quit and get your \"old\" terminal back, press `q`!"
   ]
  },
  {
   "cell_type": "markdown",
   "metadata": {
    "slideshow": {
     "slide_type": "subslide"
    }
   },
   "source": [
    "### Combining options\n",
    "\n",
    "You can use multiple options at the same time! If the options are single letters (like most of those with `ls`), you can combine them with the same `-` flag:"
   ]
  },
  {
   "cell_type": "code",
   "execution_count": 22,
   "metadata": {
    "slideshow": {
     "slide_type": "fragment"
    }
   },
   "outputs": [
    {
     "name": "stdout",
     "output_type": "stream",
     "text": [
      "total 26448\n",
      "26216 colorblind_plotting.ipynb\n",
      "  200 Screenshot 2024-03-04 at 16.04.25.png\n",
      "   32 setup_bu.md\n",
      "    0 \u001b[34mrand\u001b[m\u001b[m/\n",
      "    0 \u001b[34mdocker_mne\u001b[m\u001b[m/\n",
      "    0 \u001b[34manalyses\u001b[m\u001b[m/\n"
     ]
    }
   ],
   "source": [
    "ls -sS /Users/me/Desktop"
   ]
  },
  {
   "cell_type": "code",
   "execution_count": 23,
   "metadata": {
    "slideshow": {
     "slide_type": "fragment"
    }
   },
   "outputs": [
    {
     "name": "stdout",
     "output_type": "stream",
     "text": [
      "total 26448\n",
      "-rw-r--r--@  1 me  staff     99091 Mar  4 16:04 Screenshot 2024-03-04 at 16.04.25.png\n",
      "drwxr-xr-x   2 me  staff        64 Feb 16 20:12 \u001b[34manalyses\u001b[m\u001b[m/\n",
      "-rw-r--r--@  1 me  staff  13421205 Feb 19 14:03 colorblind_plotting.ipynb\n",
      "drwxr-xr-x   5 me  staff       160 Feb 15 14:13 \u001b[34mdocker_mne\u001b[m\u001b[m/\n",
      "drwxr-xr-x  64 me  staff      2048 Feb 16 20:01 \u001b[34mrand\u001b[m\u001b[m/\n",
      "-rw-r--r--@  1 me  staff     12959 Mar  8 10:53 setup_bu.md\n"
     ]
    }
   ],
   "source": [
    "ls -l "
   ]
  },
  {
   "cell_type": "markdown",
   "metadata": {
    "slideshow": {
     "slide_type": "subslide"
    }
   },
   "source": [
    "### Exploring other directories\n",
    "\n",
    "Providing an argument to `ls` lets us list the content of other directories (besides our current working directory):"
   ]
  },
  {
   "cell_type": "code",
   "execution_count": 25,
   "metadata": {
    "slideshow": {
     "slide_type": "fragment"
    }
   },
   "outputs": [
    {
     "name": "stdout",
     "output_type": "stream",
     "text": [
      "another_document.txt  document.txt\n"
     ]
    }
   ],
   "source": [
    "ls -F /Users/me/Documents/stuff/"
   ]
  },
  {
   "cell_type": "markdown",
   "metadata": {
    "slideshow": {
     "slide_type": "subslide"
    }
   },
   "source": [
    "(For those of you on Mac + Linux: this should match what you *see* on your desktop! For those of you using the WSL: this will be a bit different, unfortunately.)"
   ]
  },
  {
   "cell_type": "markdown",
   "metadata": {
    "slideshow": {
     "slide_type": "subslide"
    }
   },
   "source": [
    "To work with the contents of other directories we can therefore do two things:\n",
    "\n",
    "1. e.g. list the contents of one of the directories given a path as an argument"
   ]
  },
  {
   "cell_type": "code",
   "execution_count": 29,
   "metadata": {
    "slideshow": {
     "slide_type": "fragment"
    }
   },
   "outputs": [
    {
     "name": "stdout",
     "output_type": "stream",
     "text": [
      "another_document.txt  document.txt\n"
     ]
    }
   ],
   "source": [
    "ls -F /Users/me/Documents/stuff/"
   ]
  },
  {
   "cell_type": "markdown",
   "metadata": {
    "slideshow": {
     "slide_type": "subslide"
    }
   },
   "source": [
    "\n",
    "2. Actually *change* to a different directory, moving out of our home directory"
   ]
  },
  {
   "cell_type": "code",
   "execution_count": 31,
   "metadata": {},
   "outputs": [
    {
     "data": {
      "text/plain": [
       "'/Users/me/Desktop'"
      ]
     },
     "execution_count": 31,
     "metadata": {},
     "output_type": "execute_result"
    }
   ],
   "source": [
    "pwd"
   ]
  },
  {
   "cell_type": "markdown",
   "metadata": {
    "slideshow": {
     "slide_type": "fragment"
    }
   },
   "source": [
    "The `cd` command (**c**hange **d**irectory) changes the **shell's idea** of what directory we're in.\n",
    "\n",
    "This commands will change us, one-by-one, into `Desktop`, then `data-shell`, then `data`.\n",
    "\n",
    "Note the lack of output! This is normal for `cd`.\n",
    "\n",
    "!If you're using WSL to follow along, you might not have a Downloads or Desktop folder, so just navigate to your current directory. I.e. use `ls` to check which directories you can move into!"
   ]
  },
  {
   "cell_type": "code",
   "execution_count": 35,
   "metadata": {
    "slideshow": {
     "slide_type": "fragment"
    }
   },
   "outputs": [
    {
     "name": "stdout",
     "output_type": "stream",
     "text": [
      "/Users/me/Documents/stuff\n"
     ]
    }
   ],
   "source": [
    "cd ~/Documents/stuff/"
   ]
  },
  {
   "cell_type": "markdown",
   "metadata": {
    "slideshow": {
     "slide_type": "subslide"
    }
   },
   "source": [
    "### Where are we now?\n",
    "\n",
    "Let's check our **current working directory**:"
   ]
  },
  {
   "cell_type": "code",
   "execution_count": 36,
   "metadata": {
    "slideshow": {
     "slide_type": "fragment"
    }
   },
   "outputs": [
    {
     "data": {
      "text/plain": [
       "'/Users/me/Documents/stuff'"
      ]
     },
     "execution_count": 36,
     "metadata": {},
     "output_type": "execute_result"
    }
   ],
   "source": [
    "pwd"
   ]
  },
  {
   "cell_type": "markdown",
   "metadata": {
    "slideshow": {
     "slide_type": "fragment"
    }
   },
   "source": [
    "And the contents of the directory (once more):"
   ]
  },
  {
   "cell_type": "code",
   "execution_count": 37,
   "metadata": {
    "slideshow": {
     "slide_type": "fragment"
    }
   },
   "outputs": [
    {
     "name": "stdout",
     "output_type": "stream",
     "text": [
      "another_document.txt  document.txt\n"
     ]
    }
   ],
   "source": [
    "ls -F"
   ]
  },
  {
   "cell_type": "markdown",
   "metadata": {
    "slideshow": {
     "slide_type": "subslide"
    }
   },
   "source": [
    "### How do I get out of here?\n",
    "\n",
    "We can go \"down\" into directories, but what about reversing that? What if I want to go back to where we were previously?"
   ]
  },
  {
   "cell_type": "code",
   "execution_count": 38,
   "metadata": {
    "slideshow": {
     "slide_type": "fragment"
    }
   },
   "outputs": [
    {
     "name": "stdout",
     "output_type": "stream",
     "text": [
      "[Errno 2] No such file or directory: '/Desktop'\n",
      "/Users/me/Documents/stuff\n"
     ]
    }
   ],
   "source": [
    "cd /Desktop"
   ]
  },
  {
   "cell_type": "markdown",
   "metadata": {
    "slideshow": {
     "slide_type": "fragment"
    }
   },
   "source": [
    "Nope! `cd` can only see *inside* your current directory. \n",
    "\n",
    "There's a special notation to move one directory up:"
   ]
  },
  {
   "cell_type": "code",
   "execution_count": 39,
   "metadata": {
    "slideshow": {
     "slide_type": "fragment"
    }
   },
   "outputs": [
    {
     "name": "stdout",
     "output_type": "stream",
     "text": [
      "/Users/me/Documents\n"
     ]
    }
   ],
   "source": [
    "cd .."
   ]
  },
  {
   "cell_type": "markdown",
   "metadata": {
    "slideshow": {
     "slide_type": "subslide"
    }
   },
   "source": [
    "Here, `..` refers to \"the directory containing this one\". This is also called the **parent** of the current directory.\n",
    "\n",
    "Let's check that we are where we think we are:"
   ]
  },
  {
   "cell_type": "code",
   "execution_count": 40,
   "metadata": {
    "slideshow": {
     "slide_type": "fragment"
    }
   },
   "outputs": [
    {
     "data": {
      "text/plain": [
       "'/Users/me/Documents'"
      ]
     },
     "execution_count": 40,
     "metadata": {},
     "output_type": "execute_result"
    }
   ],
   "source": [
    "pwd"
   ]
  },
  {
   "cell_type": "markdown",
   "metadata": {},
   "source": [
    "We can now simply chain cd commands to navigate through our file system"
   ]
  },
  {
   "cell_type": "code",
   "execution_count": 41,
   "metadata": {},
   "outputs": [
    {
     "name": "stdout",
     "output_type": "stream",
     "text": [
      "/Users/me\n"
     ]
    }
   ],
   "source": [
    "cd .."
   ]
  },
  {
   "cell_type": "code",
   "execution_count": 43,
   "metadata": {},
   "outputs": [
    {
     "data": {
      "text/plain": [
       "'/Users/me'"
      ]
     },
     "execution_count": 43,
     "metadata": {},
     "output_type": "execute_result"
    }
   ],
   "source": [
    "pwd"
   ]
  },
  {
   "cell_type": "code",
   "execution_count": 44,
   "metadata": {},
   "outputs": [
    {
     "name": "stdout",
     "output_type": "stream",
     "text": [
      "/Users/me/Desktop\n"
     ]
    }
   ],
   "source": [
    "cd Desktop/"
   ]
  },
  {
   "attachments": {},
   "cell_type": "markdown",
   "metadata": {},
   "source": [
    "\n",
    "\n",
    "### Seeing the unseen\n",
    "\n",
    "`ls` is supposed to list the contents of our directory, but we didn't see `..` anywhere in the listings from before, right?\n",
    "\n",
    "`..` is a special directory that is normally hidden. We can provide an additional argument to `ls` to make it appear:"
   ]
  },
  {
   "cell_type": "code",
   "execution_count": 45,
   "metadata": {
    "slideshow": {
     "slide_type": "fragment"
    }
   },
   "outputs": [
    {
     "name": "stdout",
     "output_type": "stream",
     "text": [
      "\u001b[34m.\u001b[m\u001b[m/                                     \u001b[34manalyses\u001b[m\u001b[m/\n",
      "\u001b[34m..\u001b[m\u001b[m/                                    colorblind_plotting.ipynb\n",
      ".DS_Store                              \u001b[34mdocker_mne\u001b[m\u001b[m/\n",
      "\u001b[34m.ipynb_checkpoints\u001b[m\u001b[m/                    \u001b[34mrand\u001b[m\u001b[m/\n",
      ".localized                             setup_bu.md\n",
      "Screenshot 2024-03-04 at 16.04.25.png\n"
     ]
    }
   ],
   "source": [
    "ls -Fa"
   ]
  },
  {
   "cell_type": "markdown",
   "metadata": {
    "slideshow": {
     "slide_type": "subslide"
    }
   },
   "source": [
    "The `-a` argument (show **a**ll contents) will list ALL the contents of our current directory, including special and hidden files/directories, like:\n",
    "\n",
    "* `..`, which refers to the parent directory\n",
    "* `.`, which refers to the current working directory"
   ]
  },
  {
   "cell_type": "markdown",
   "metadata": {
    "slideshow": {
     "slide_type": "subslide"
    }
   },
   "source": [
    "### Hidden files\n",
    "\n"
   ]
  },
  {
   "cell_type": "markdown",
   "metadata": {
    "slideshow": {
     "slide_type": "subslide"
    }
   },
   "source": [
    "The `.` prefix is usually reserved for configuration files, and prevents them from cluttering the terminal when you use `ls`."
   ]
  },
  {
   "cell_type": "code",
   "execution_count": 46,
   "metadata": {},
   "outputs": [
    {
     "name": "stdout",
     "output_type": "stream",
     "text": [
      "\u001b[34m.\u001b[m\u001b[m/                                     \u001b[34manalyses\u001b[m\u001b[m/\n",
      "\u001b[34m..\u001b[m\u001b[m/                                    colorblind_plotting.ipynb\n",
      ".DS_Store                              \u001b[34mdocker_mne\u001b[m\u001b[m/\n",
      "\u001b[34m.ipynb_checkpoints\u001b[m\u001b[m/                    \u001b[34mrand\u001b[m\u001b[m/\n",
      ".localized                             setup_bu.md\n",
      "Screenshot 2024-03-04 at 16.04.25.png\n"
     ]
    }
   ],
   "source": [
    "ls -Fa"
   ]
  },
  {
   "cell_type": "markdown",
   "metadata": {
    "slideshow": {
     "slide_type": "subslide"
    }
   },
   "source": [
    "### `pwd`, `cd`, and `ls`\n",
    "\n",
    "These are some of **the most** common commands you'll use in the shell! So let's learn a little more about them."
   ]
  },
  {
   "cell_type": "code",
   "execution_count": 47,
   "metadata": {
    "slideshow": {
     "slide_type": "fragment"
    }
   },
   "outputs": [
    {
     "name": "stdout",
     "output_type": "stream",
     "text": [
      "/Users/me\n"
     ]
    }
   ],
   "source": [
    "cd"
   ]
  },
  {
   "cell_type": "markdown",
   "metadata": {
    "slideshow": {
     "slide_type": "fragment"
    }
   },
   "source": [
    "`cd` optionally takes no arguments. But where does that land us?"
   ]
  },
  {
   "cell_type": "code",
   "execution_count": 48,
   "metadata": {
    "slideshow": {
     "slide_type": "fragment"
    }
   },
   "outputs": [
    {
     "data": {
      "text/plain": [
       "'/Users/me'"
      ]
     },
     "execution_count": 48,
     "metadata": {},
     "output_type": "execute_result"
    }
   ],
   "source": [
    "pwd"
   ]
  },
  {
   "cell_type": "markdown",
   "metadata": {
    "slideshow": {
     "slide_type": "subslide"
    }
   },
   "source": [
    "In our home directory! This is *incredibly* useful if you've gotten lost.\n",
    "\n",
    "Let's go back to the `Desktop` directory:"
   ]
  },
  {
   "cell_type": "code",
   "execution_count": 49,
   "metadata": {
    "slideshow": {
     "slide_type": "fragment"
    }
   },
   "outputs": [
    {
     "name": "stdout",
     "output_type": "stream",
     "text": [
      "/Users/me/Desktop\n"
     ]
    }
   ],
   "source": [
    "cd Desktop/"
   ]
  },
  {
   "cell_type": "code",
   "execution_count": 50,
   "metadata": {
    "slideshow": {
     "slide_type": "fragment"
    }
   },
   "outputs": [
    {
     "data": {
      "text/plain": [
       "'/Users/me/Desktop'"
      ]
     },
     "execution_count": 50,
     "metadata": {},
     "output_type": "execute_result"
    }
   ],
   "source": [
    "pwd"
   ]
  },
  {
   "cell_type": "markdown",
   "metadata": {
    "slideshow": {
     "slide_type": "fragment"
    }
   },
   "source": [
    "We can string together paths with the `/` separator instead of changing one directory at a time!"
   ]
  },
  {
   "cell_type": "markdown",
   "metadata": {
    "slideshow": {
     "slide_type": "subslide"
    }
   },
   "source": [
    "### Relative versus absolute paths\n",
    "\n",
    "We've been using **relative** paths to change directories and list their contents.\n",
    "\n",
    "Relative here indicates that the path is **relative to your current working directory**.\n",
    "\n",
    "The alternative is an **absolute** path, which includes the entire path starting at the root directory (`/`).\n",
    "\n",
    "This is what's been printed with `pwd`:"
   ]
  },
  {
   "cell_type": "code",
   "execution_count": 51,
   "metadata": {
    "slideshow": {
     "slide_type": "fragment"
    }
   },
   "outputs": [
    {
     "data": {
      "text/plain": [
       "'/Users/me/Desktop'"
      ]
     },
     "execution_count": 51,
     "metadata": {},
     "output_type": "execute_result"
    }
   ],
   "source": [
    "pwd"
   ]
  },
  {
   "cell_type": "markdown",
   "metadata": {
    "slideshow": {
     "slide_type": "subslide"
    }
   },
   "source": [
    "We can provide absolute paths to our commands and they'll work, too:"
   ]
  },
  {
   "cell_type": "code",
   "execution_count": 52,
   "metadata": {
    "slideshow": {
     "slide_type": "fragment"
    }
   },
   "outputs": [
    {
     "name": "stdout",
     "output_type": "stream",
     "text": [
      "/Users/me/Desktop/docker_mne\n"
     ]
    }
   ],
   "source": [
    "cd /Users/me/Desktop/docker_mne/"
   ]
  },
  {
   "cell_type": "code",
   "execution_count": 53,
   "metadata": {
    "slideshow": {
     "slide_type": "fragment"
    }
   },
   "outputs": [
    {
     "data": {
      "text/plain": [
       "'/Users/me/Desktop/docker_mne'"
      ]
     },
     "execution_count": 53,
     "metadata": {},
     "output_type": "execute_result"
    }
   ],
   "source": [
    "pwd"
   ]
  },
  {
   "cell_type": "code",
   "execution_count": 54,
   "metadata": {
    "slideshow": {
     "slide_type": "fragment"
    }
   },
   "outputs": [
    {
     "name": "stdout",
     "output_type": "stream",
     "text": [
      "Dockerfile\n"
     ]
    }
   ],
   "source": [
    "ls -F"
   ]
  },
  {
   "cell_type": "markdown",
   "metadata": {
    "slideshow": {
     "slide_type": "subslide"
    }
   },
   "source": [
    "### Some helpful shortcuts"
   ]
  },
  {
   "cell_type": "markdown",
   "metadata": {
    "slideshow": {
     "slide_type": "fragment"
    }
   },
   "source": [
    "#### `~`\n",
    "\n",
    "The shell will interpret the `~` tilde character as \"your home directory\". \n",
    "\n",
    "That is, `cd ~`, `cd`, and `cd /Users/me` will all get me to the same place!"
   ]
  },
  {
   "cell_type": "code",
   "execution_count": 55,
   "metadata": {
    "slideshow": {
     "slide_type": "fragment"
    }
   },
   "outputs": [
    {
     "name": "stdout",
     "output_type": "stream",
     "text": [
      "/Users/me\n"
     ]
    }
   ],
   "source": [
    "cd ~"
   ]
  },
  {
   "cell_type": "code",
   "execution_count": 56,
   "metadata": {
    "slideshow": {
     "slide_type": "fragment"
    }
   },
   "outputs": [
    {
     "data": {
      "text/plain": [
       "'/Users/me'"
      ]
     },
     "execution_count": 56,
     "metadata": {},
     "output_type": "execute_result"
    }
   ],
   "source": [
    "pwd"
   ]
  },
  {
   "cell_type": "markdown",
   "metadata": {
    "slideshow": {
     "slide_type": "subslide"
    }
   },
   "source": [
    "If you're unsure, you can determine what your home directory is via the environmental variable `$HOME` (like we did with `$SHELL` before!):"
   ]
  },
  {
   "cell_type": "code",
   "execution_count": 57,
   "metadata": {
    "slideshow": {
     "slide_type": "fragment"
    }
   },
   "outputs": [
    {
     "name": "stdout",
     "output_type": "stream",
     "text": [
      "/Users/me\n"
     ]
    }
   ],
   "source": [
    "!echo $HOME"
   ]
  },
  {
   "cell_type": "markdown",
   "metadata": {
    "slideshow": {
     "slide_type": "fragment"
    }
   },
   "source": [
    "#### `-`\n",
    "\n",
    "The shell will interpret the `-` character as \"wherever you were last\".\n",
    "\n",
    "Unlike `..`, which moves us \"up\" one directory, `-` will bring you BACK. \n",
    "\n",
    "We were just in `/Users/me/Desktop/docker_mne/\n",
    "` and then changed to `/Users/me/` so `cd -` should bring us back:"
   ]
  },
  {
   "cell_type": "code",
   "execution_count": 58,
   "metadata": {
    "slideshow": {
     "slide_type": "fragment"
    }
   },
   "outputs": [
    {
     "name": "stdout",
     "output_type": "stream",
     "text": [
      "/Users/me/Desktop/docker_mne\n"
     ]
    }
   ],
   "source": [
    "cd -"
   ]
  },
  {
   "cell_type": "markdown",
   "metadata": {
    "slideshow": {
     "slide_type": "subslide"
    }
   },
   "source": [
    "### Absolute vs Relative Paths:\n",
    "\n",
    "Starting from `/Users/amanda/data`, which of the following commands could Amanda use to navigate to her home directory, which is `/Users/amanda`?\n",
    "\n",
    "1. `cd .`\n",
    "2. `cd /`\n",
    "3. `cd /home/amanda`\n",
    "4. `cd ../..`\n",
    "5. `cd ~`\n",
    "6. `cd home`\n",
    "7. `cd ~/data/..`\n",
    "8. `cd`\n",
    "9. `cd ..`"
   ]
  },
  {
   "cell_type": "markdown",
   "metadata": {
    "slideshow": {
     "slide_type": "subslide"
    }
   },
   "source": [
    "1. No: `.` refers to the **current working directory**\n",
    "2. No: `/` refers to the **root directory**\n",
    "3. No: Amanda's home directory is `/Users/amanda`\n",
    "4. No: this goes up two levels, to `Users`\n",
    "5. Yes: `~` refers to the home directory, which is `Users/amanda`.\n",
    "6. No: this would navigate to the `hom` directory inside `Users/amanda/data` (if it exists)\n",
    "7. Yes: unnecesarily complicated, but correct\n",
    "8. Yes: this is a shortcut to go back to the user's home directory!\n",
    "9. Yes: this goes up one directory, to `/Users/amanda`"
   ]
  },
  {
   "cell_type": "markdown",
   "metadata": {
    "slideshow": {
     "slide_type": "subslide"
    }
   },
   "source": [
    "### Relative Path Resolution:\n",
    "\n",
    "Based on the following diagram, if `pwd` displays `/Users/thing`, what will `ls -F ../backup` display?\n",
    "\n",
    "1. `../backup: No such file or directory`\n",
    "2. `2012-12-01 2013-01-08 2013-01-27`\n",
    "3. `2012-12-01/ 2013-01-08/ 2013-01-27/`\n",
    "4. `original/ pnas_final/ pnas_sub/`\n",
    "\n",
    "<img src=\"http://swcarpentry.github.io/shell-novice/fig/filesystem-challenge.svg\" style=\"margin-bottom: 10px;float: right\">"
   ]
  },
  {
   "cell_type": "markdown",
   "metadata": {
    "slideshow": {
     "slide_type": "subslide"
    }
   },
   "source": [
    "1. No: there *is* a directory `backup` in `Users`"
   ]
  },
  {
   "cell_type": "markdown",
   "metadata": {
    "slideshow": {
     "slide_type": "fragment"
    }
   },
   "source": [
    "2. No: this is the content of `/Users/thing/backup`, but `..` means we are one level up from that"
   ]
  },
  {
   "cell_type": "markdown",
   "metadata": {
    "slideshow": {
     "slide_type": "fragment"
    }
   },
   "source": [
    "3. No: for the same reason as (2)"
   ]
  },
  {
   "cell_type": "markdown",
   "metadata": {
    "slideshow": {
     "slide_type": "fragment"
    }
   },
   "source": [
    "4. Yes: `../backup` refers to `/Users/backup`"
   ]
  },
  {
   "cell_type": "markdown",
   "metadata": {
    "slideshow": {
     "slide_type": "subslide"
    }
   },
   "source": [
    "### `ls` Reading Comprehension\n",
    "\n",
    "Using the filesystem diagram below, if `pwd` displays `/Users/backup`, and `-r` tells `ls` to display things in reverse (alphabetical) order, what command(s) will result in the following output:\n",
    "\n",
    "```\n",
    "pnas_sub/ pnas_final/ original/\n",
    "```\n",
    "\n",
    "1. `ls pwd`\n",
    "2. `ls -rF`\n",
    "3. `ls -rF /Users/backup`\n",
    "\n",
    "<img src=\"http://swcarpentry.github.io/shell-novice/fig/filesystem-challenge.svg\" style=\"margin-bottom: 10px;float: right\">"
   ]
  },
  {
   "cell_type": "markdown",
   "metadata": {
    "slideshow": {
     "slide_type": "subslide"
    }
   },
   "source": [
    "1. No: `pwd` is not the name of a directory, it is a command."
   ]
  },
  {
   "cell_type": "markdown",
   "metadata": {
    "slideshow": {
     "slide_type": "fragment"
    }
   },
   "source": [
    "2. Yes: `ls` without any arguments will list the contents of the current directory."
   ]
  },
  {
   "cell_type": "markdown",
   "metadata": {
    "slideshow": {
     "slide_type": "fragment"
    }
   },
   "source": [
    "3. Yes: providing the absolute path of the directory will work."
   ]
  },
  {
   "cell_type": "markdown",
   "metadata": {
    "slideshow": {
     "slide_type": "subslide"
    }
   },
   "source": [
    "### Key points\n",
    "\n",
    "\n",
    "* The file system is responsible for managing information on the disk\n",
    "* Information is stored in files, which are stored in directories (folders)\n",
    "* Directories can also store other (sub-)directories, which forms a directory tree\n",
    "* `cd path` changes the current working directory\n",
    "* `ls path` prints a listing of a specific file or directory; `ls` on its own lists the current working directory.\n",
    "* `pwd` prints the user’s current working directory\n",
    "* `/` on its own is the root directory of the whole file system\n",
    "* A relative path specifies a location starting from the current location\n",
    "* An absolute path specifies a location from the root of the file system\n",
    "* Directory names in a path are separated with `/` on Unix, but `\\` on Windows\n",
    "* `..` means \"the directory above the current one\"; `.` on its own means \"the current directory\""
   ]
  },
  {
   "cell_type": "markdown",
   "metadata": {
    "slideshow": {
     "slide_type": "slide"
    }
   },
   "source": [
    "## Working with Files and Directories\n",
    "\n",
    "How do we actually _make_ new files and directories from the command line?\n",
    "\n",
    "First, let's remind ourselves of where we are:"
   ]
  },
  {
   "cell_type": "code",
   "execution_count": 59,
   "metadata": {
    "slideshow": {
     "slide_type": "fragment"
    }
   },
   "outputs": [
    {
     "name": "stdout",
     "output_type": "stream",
     "text": [
      "/Users/me/Desktop\n"
     ]
    }
   ],
   "source": [
    "cd ~/Desktop/"
   ]
  },
  {
   "cell_type": "code",
   "execution_count": 60,
   "metadata": {},
   "outputs": [
    {
     "data": {
      "text/plain": [
       "'/Users/me/Desktop'"
      ]
     },
     "execution_count": 60,
     "metadata": {},
     "output_type": "execute_result"
    }
   ],
   "source": [
    "pwd"
   ]
  },
  {
   "cell_type": "code",
   "execution_count": 61,
   "metadata": {
    "slideshow": {
     "slide_type": "fragment"
    }
   },
   "outputs": [
    {
     "name": "stdout",
     "output_type": "stream",
     "text": [
      "Screenshot 2024-03-04 at 16.04.25.png  \u001b[34mdocker_mne\u001b[m\u001b[m/\n",
      "\u001b[34manalyses\u001b[m\u001b[m/                              \u001b[34mrand\u001b[m\u001b[m/\n",
      "colorblind_plotting.ipynb              setup_bu.md\n"
     ]
    }
   ],
   "source": [
    "ls -F"
   ]
  },
  {
   "cell_type": "markdown",
   "metadata": {
    "slideshow": {
     "slide_type": "subslide"
    }
   },
   "source": [
    "## Creating a directory\n",
    "\n",
    "We can create new directories with the `mkdir` (**m**a**k**e **dir**ectory) command:"
   ]
  },
  {
   "cell_type": "code",
   "execution_count": 62,
   "metadata": {
    "slideshow": {
     "slide_type": "fragment"
    }
   },
   "outputs": [],
   "source": [
    "mkdir thesis"
   ]
  },
  {
   "cell_type": "markdown",
   "metadata": {
    "slideshow": {
     "slide_type": "subslide"
    }
   },
   "source": [
    "Since we provided a relative path, we can expect that to have been created in our current working directory:"
   ]
  },
  {
   "cell_type": "code",
   "execution_count": 63,
   "metadata": {
    "scrolled": true,
    "slideshow": {
     "slide_type": "fragment"
    }
   },
   "outputs": [
    {
     "name": "stdout",
     "output_type": "stream",
     "text": [
      "Screenshot 2024-03-04 at 16.04.25.png  \u001b[34mrand\u001b[m\u001b[m/\n",
      "\u001b[34manalyses\u001b[m\u001b[m/                              setup_bu.md\n",
      "colorblind_plotting.ipynb              \u001b[34mthesis\u001b[m\u001b[m/\n",
      "\u001b[34mdocker_mne\u001b[m\u001b[m/\n"
     ]
    }
   ],
   "source": [
    "ls -F"
   ]
  },
  {
   "cell_type": "markdown",
   "metadata": {
    "slideshow": {
     "slide_type": "subslide"
    }
   },
   "source": [
    "(You could have also opened up the file explorer and made a new folder that way, too!)"
   ]
  },
  {
   "cell_type": "markdown",
   "metadata": {
    "slideshow": {
     "slide_type": "subslide"
    }
   },
   "source": [
    "### Good naming conventions\n",
    "\n",
    "1. Don't use spaces\n",
    "2. Don't begin the name with `-`\n",
    "3. Stick with letters, numbers, `.`, `-`, and `_`\n",
    "    - That is, avoid other special characters like `~!@#$%^&*()`"
   ]
  },
  {
   "cell_type": "markdown",
   "metadata": {
    "slideshow": {
     "slide_type": "subslide"
    }
   },
   "source": [
    "### Creating a text file\n",
    "\n",
    "Let's navigate into our (empty) `thesis` directory and create a new file:"
   ]
  },
  {
   "cell_type": "code",
   "execution_count": 64,
   "metadata": {
    "slideshow": {
     "slide_type": "fragment"
    }
   },
   "outputs": [
    {
     "name": "stdout",
     "output_type": "stream",
     "text": [
      "/Users/me/Desktop/thesis\n"
     ]
    }
   ],
   "source": [
    "cd thesis"
   ]
  },
  {
   "cell_type": "markdown",
   "metadata": {
    "slideshow": {
     "slide_type": "fragment"
    }
   },
   "source": [
    "We can make a file via the following `touch` command providing a filename and ending as an argument:"
   ]
  },
  {
   "cell_type": "code",
   "execution_count": 65,
   "metadata": {
    "slideshow": {
     "slide_type": "fragment"
    }
   },
   "outputs": [],
   "source": [
    "!touch draft.txt"
   ]
  },
  {
   "cell_type": "markdown",
   "metadata": {
    "slideshow": {
     "slide_type": "fragment"
    }
   },
   "source": [
    "`touch` creates an **empty** file. We can see that with `ls -l`:"
   ]
  },
  {
   "cell_type": "code",
   "execution_count": 66,
   "metadata": {
    "slideshow": {
     "slide_type": "fragment"
    }
   },
   "outputs": [
    {
     "name": "stdout",
     "output_type": "stream",
     "text": [
      "total 0\n",
      "-rw-r--r--  1 me  staff  0 Mar  8 12:47 draft.txt\n"
     ]
    }
   ],
   "source": [
    "ls -l"
   ]
  },
  {
   "cell_type": "markdown",
   "metadata": {
    "slideshow": {
     "slide_type": "subslide"
    }
   },
   "source": [
    "### Moving files and directories\n",
    "\n",
    "Let's start by going back to the `Desktop` directory:"
   ]
  },
  {
   "cell_type": "code",
   "execution_count": 69,
   "metadata": {
    "slideshow": {
     "slide_type": "fragment"
    }
   },
   "outputs": [
    {
     "name": "stdout",
     "output_type": "stream",
     "text": [
      "/Users/me/Desktop\n"
     ]
    }
   ],
   "source": [
    "cd ~/Desktop"
   ]
  },
  {
   "cell_type": "markdown",
   "metadata": {
    "slideshow": {
     "slide_type": "fragment"
    }
   },
   "source": [
    "We now have a `thesis/draft.txt` file, which isn't very informatively named. Let's **m**o**v**e it:"
   ]
  },
  {
   "cell_type": "code",
   "execution_count": 70,
   "metadata": {
    "slideshow": {
     "slide_type": "fragment"
    }
   },
   "outputs": [],
   "source": [
    "mv thesis/draft.txt thesis/quotes.txt"
   ]
  },
  {
   "cell_type": "markdown",
   "metadata": {
    "slideshow": {
     "slide_type": "fragment"
    }
   },
   "source": [
    "The first argument of `mv` is the file we're moving, and the last argument is where we want it to go!\n",
    "\n",
    "Let's make sure that worked:"
   ]
  },
  {
   "cell_type": "code",
   "execution_count": 71,
   "metadata": {
    "slideshow": {
     "slide_type": "subslide"
    }
   },
   "outputs": [
    {
     "name": "stdout",
     "output_type": "stream",
     "text": [
      "quotes.txt\n"
     ]
    }
   ],
   "source": [
    "ls thesis"
   ]
  },
  {
   "cell_type": "markdown",
   "metadata": {
    "slideshow": {
     "slide_type": "fragment"
    }
   },
   "source": [
    "In this case we've moved a file into the same directory it existed in, but provided a different name as the second argument (\"thesis/quotes.txt\") effectively simply renaming the file.\n",
    "\n",
    "Note: We can provide more than two arguments to `mv`, as long as the final argument is a directory! That would mean \"move all these things into this directory\".\n",
    "Also note: `mv` is **quite dangerous**, because it will silently overwrite files if the destination already exists! Refer to the `-i` flag for \"interactive\" moving (with warnings!)."
   ]
  },
  {
   "cell_type": "markdown",
   "metadata": {
    "slideshow": {
     "slide_type": "subslide"
    }
   },
   "source": [
    "### More on `mv`\n",
    "\n",
    "Note that we use `mv` to change files to a different directory (rather than just re-naming):"
   ]
  },
  {
   "cell_type": "code",
   "execution_count": 72,
   "metadata": {
    "slideshow": {
     "slide_type": "fragment"
    }
   },
   "outputs": [],
   "source": [
    "mv thesis/quotes.txt ."
   ]
  },
  {
   "cell_type": "markdown",
   "metadata": {
    "slideshow": {
     "slide_type": "fragment"
    }
   },
   "source": [
    "The `.` means \"the current directory\", so we _should_ have moved `quotes.txt` out of the `thesis` directory into our current directory.\n",
    "\n",
    "Let's check that worked as expected:"
   ]
  },
  {
   "cell_type": "code",
   "execution_count": 73,
   "metadata": {
    "slideshow": {
     "slide_type": "fragment"
    }
   },
   "outputs": [],
   "source": [
    "ls thesis"
   ]
  },
  {
   "cell_type": "code",
   "execution_count": 75,
   "metadata": {},
   "outputs": [
    {
     "data": {
      "text/plain": [
       "'/Users/me/Desktop'"
      ]
     },
     "execution_count": 75,
     "metadata": {},
     "output_type": "execute_result"
    }
   ],
   "source": [
    "pwd"
   ]
  },
  {
   "cell_type": "code",
   "execution_count": 76,
   "metadata": {
    "slideshow": {
     "slide_type": "fragment"
    }
   },
   "outputs": [
    {
     "name": "stdout",
     "output_type": "stream",
     "text": [
      "Screenshot 2024-03-04 at 16.04.25.png  quotes.txt\n",
      "\u001b[34manalyses\u001b[m\u001b[m/                              \u001b[34mrand\u001b[m\u001b[m/\n",
      "colorblind_plotting.ipynb              setup_bu.md\n",
      "\u001b[34mdocker_mne\u001b[m\u001b[m/                            \u001b[34mthesis\u001b[m\u001b[m/\n"
     ]
    }
   ],
   "source": [
    "ls  "
   ]
  },
  {
   "cell_type": "markdown",
   "metadata": {
    "slideshow": {
     "slide_type": "subslide"
    }
   },
   "source": [
    "(Note: providing a filename to `ls` instead of a directory will list only that filename **if it exists**. Otherwise, it will throw an error.)"
   ]
  },
  {
   "cell_type": "code",
   "execution_count": 77,
   "metadata": {},
   "outputs": [
    {
     "name": "stdout",
     "output_type": "stream",
     "text": [
      "quotes.txt\n"
     ]
    }
   ],
   "source": [
    "ls quotes.txt"
   ]
  },
  {
   "cell_type": "markdown",
   "metadata": {
    "slideshow": {
     "slide_type": "subslide"
    }
   },
   "source": [
    "### Exercise: Moving files to a new folder\n",
    "\n",
    "After running the following commands, Jamie realizes that she put the files `sucrose.dat` and `maltose.dat` into the wrong folder. The files should have been placed in the `raw` folder.\n",
    "\n",
    "```bash\n",
    "$ ls -F\n",
    " analyzed/ raw/\n",
    "$ ls -F analyzed\n",
    "fructose.dat glucose.dat maltose.dat sucrose.dat\n",
    "$ cd analyzed\n",
    "```\n",
    "\n",
    "Fill in the blanks to move these files to the raw/ folder (i.e. the one she forgot to put them in):\n",
    "\n",
    "```bash\n",
    "$ mv sucrose.dat maltose.dat ____/____\n",
    "```"
   ]
  },
  {
   "cell_type": "markdown",
   "metadata": {
    "slideshow": {
     "slide_type": "fragment"
    }
   },
   "source": [
    "```bash\n",
    "mv sucrose.dat maltose.dat ../raw\n",
    "```\n",
    "\n",
    "Remember, the `..` refers to the parent directory (i.e., one above the current directory)"
   ]
  },
  {
   "cell_type": "markdown",
   "metadata": {
    "slideshow": {
     "slide_type": "subslide"
    }
   },
   "source": [
    "### Copying files and directories\n",
    "\n",
    "The `cp` (**c**o**p**y) command is like `mv`, but copies instead of moving!"
   ]
  },
  {
   "cell_type": "code",
   "execution_count": 78,
   "metadata": {
    "slideshow": {
     "slide_type": "fragment"
    }
   },
   "outputs": [],
   "source": [
    "cp quotes.txt thesis/quotations.txt"
   ]
  },
  {
   "cell_type": "code",
   "execution_count": 79,
   "metadata": {
    "slideshow": {
     "slide_type": "fragment"
    }
   },
   "outputs": [
    {
     "name": "stdout",
     "output_type": "stream",
     "text": [
      "quotes.txt             thesis/quotations.txt\n"
     ]
    }
   ],
   "source": [
    "ls quotes.txt thesis/quotations.txt"
   ]
  },
  {
   "cell_type": "markdown",
   "metadata": {},
   "source": [
    "(remember that ls can take more than one argument)"
   ]
  },
  {
   "cell_type": "markdown",
   "metadata": {
    "slideshow": {
     "slide_type": "fragment"
    }
   },
   "source": [
    "We can use the `-r` (**r**ecursive) flag to copy a directory and all its contents:"
   ]
  },
  {
   "cell_type": "code",
   "execution_count": 82,
   "metadata": {
    "slideshow": {
     "slide_type": "fragment"
    }
   },
   "outputs": [],
   "source": [
    "cp -r thesis thesis_backup"
   ]
  },
  {
   "cell_type": "code",
   "execution_count": 83,
   "metadata": {
    "slideshow": {
     "slide_type": "fragment"
    }
   },
   "outputs": [
    {
     "name": "stdout",
     "output_type": "stream",
     "text": [
      "thesis:\n",
      "quotations.txt\n",
      "\n",
      "thesis_backup:\n",
      "quotations.txt\n"
     ]
    }
   ],
   "source": [
    "ls thesis thesis_backup"
   ]
  },
  {
   "cell_type": "markdown",
   "metadata": {
    "slideshow": {
     "slide_type": "subslide"
    }
   },
   "source": [
    "### Exercise: Renaming files\n",
    "\n",
    "Suppose that you created a plain-text file in your current directory to contain a list of the statistical tests you will need to do to analyze your data, and named it: `statstics.txt`\n",
    "\n",
    "After creating and saving this file you realize you misspelled the filename! You want to correct the mistake and remove the incorrectly named file. Which of the following commands could you use to do so?\n",
    "\n",
    "1. cp statstics.txt statistics.txt\n",
    "2. mv statstics.txt statistics.txt\n",
    "3. mv statstics.txt .\n",
    "4. cp statstics.txt ."
   ]
  },
  {
   "cell_type": "markdown",
   "metadata": {
    "slideshow": {
     "slide_type": "subslide"
    }
   },
   "source": [
    "1. No: this would create a file with the correct name but would **not** remove the incorrectly named file"
   ]
  },
  {
   "cell_type": "markdown",
   "metadata": {
    "slideshow": {
     "slide_type": "fragment"
    }
   },
   "source": [
    "2. Yes: this would rename the file!"
   ]
  },
  {
   "cell_type": "markdown",
   "metadata": {
    "slideshow": {
     "slide_type": "fragment"
    }
   },
   "source": [
    "3. No, the `.` indicates where to move the file but does not provide a new name."
   ]
  },
  {
   "cell_type": "markdown",
   "metadata": {
    "slideshow": {
     "slide_type": "fragment"
    }
   },
   "source": [
    "4. No, the `.` indicates where to copy the file but does not provide a new name."
   ]
  },
  {
   "cell_type": "markdown",
   "metadata": {
    "slideshow": {
     "slide_type": "subslide"
    }
   },
   "source": [
    "### Moving and Copying\n",
    "\n",
    "What is the output of the closing `ls` command in the aequence shown below:\n",
    "\n",
    "```bash\n",
    "$ pwd\n",
    "/Users/jamie/data\n",
    "$ ls\n",
    "proteins.dat\n",
    "$ mkdir recombine\n",
    "$ mv proteins.dat recombine\n",
    "$ cp recombine/proteins.dat ../proteins-saved.dat\n",
    "$ ls\n",
    "```\n",
    "\n",
    "1. `proteins-saved.dat recombine`\n",
    "2. `recombine`\n",
    "3. `proteins.dat recombine`\n",
    "4. `proteins-saved.dat`"
   ]
  },
  {
   "cell_type": "markdown",
   "metadata": {
    "slideshow": {
     "slide_type": "subslide"
    }
   },
   "source": [
    "1. No: `proteins-saved.dat` is located at `/Users/jamie`"
   ]
  },
  {
   "cell_type": "markdown",
   "metadata": {
    "slideshow": {
     "slide_type": "fragment"
    }
   },
   "source": [
    "2. Yes!"
   ]
  },
  {
   "cell_type": "markdown",
   "metadata": {
    "slideshow": {
     "slide_type": "fragment"
    }
   },
   "source": [
    "3. No: `proteins.dat` is located at `/Users/jamie/data/recombine`"
   ]
  },
  {
   "cell_type": "markdown",
   "metadata": {
    "slideshow": {
     "slide_type": "fragment"
    }
   },
   "source": [
    "4. No, `proteins-saved.dat` is located at `/Users/jamie` "
   ]
  },
  {
   "cell_type": "markdown",
   "metadata": {
    "slideshow": {
     "slide_type": "subslide"
    }
   },
   "source": [
    "### Removing files\n",
    "\n",
    "Let's go back to `Desktop` and **r**e**m**ove the `quotes.txt` file we created:"
   ]
  },
  {
   "cell_type": "code",
   "execution_count": 84,
   "metadata": {
    "slideshow": {
     "slide_type": "fragment"
    }
   },
   "outputs": [
    {
     "name": "stdout",
     "output_type": "stream",
     "text": [
      "/Users/me/Desktop\n"
     ]
    }
   ],
   "source": [
    "cd ~/Desktop"
   ]
  },
  {
   "cell_type": "code",
   "execution_count": 85,
   "metadata": {
    "slideshow": {
     "slide_type": "fragment"
    }
   },
   "outputs": [],
   "source": [
    "rm quotes.txt"
   ]
  },
  {
   "cell_type": "markdown",
   "metadata": {
    "slideshow": {
     "slide_type": "fragment"
    }
   },
   "source": [
    "The `rm` command deletes files. Let's check that the file is gone:"
   ]
  },
  {
   "cell_type": "code",
   "execution_count": 86,
   "metadata": {
    "slideshow": {
     "slide_type": "fragment"
    }
   },
   "outputs": [
    {
     "name": "stdout",
     "output_type": "stream",
     "text": [
      "ls: quotes.txt: No such file or directory\n"
     ]
    }
   ],
   "source": [
    "ls quotes.txt"
   ]
  },
  {
   "cell_type": "markdown",
   "metadata": {
    "slideshow": {
     "slide_type": "subslide"
    }
   },
   "source": [
    "### Deleting is **FOREVER** 💀💀\n",
    "\n",
    "* The shell DOES NOT HAVE A TRASH BIN.\n",
    "* You CANNOT recover files that have been deleted with `rm`\n",
    "* But, you can use the `-i` flag to do things a bit more safely!\n",
    "    * This will prompt you to type `Y` or `N` before every file that is going to be deleted."
   ]
  },
  {
   "cell_type": "markdown",
   "metadata": {
    "slideshow": {
     "slide_type": "subslide"
    }
   },
   "source": [
    "### Removing directories\n",
    "\n",
    "Let's try and remove the `thesis` directory:"
   ]
  },
  {
   "cell_type": "code",
   "execution_count": 87,
   "metadata": {
    "slideshow": {
     "slide_type": "fragment"
    }
   },
   "outputs": [
    {
     "name": "stdout",
     "output_type": "stream",
     "text": [
      "rm: thesis: is a directory\n"
     ]
    }
   ],
   "source": [
    "rm thesis"
   ]
  },
  {
   "cell_type": "markdown",
   "metadata": {
    "slideshow": {
     "slide_type": "fragment"
    }
   },
   "source": [
    "`rm` only works on files, by default, but we can tell it to **r**ecursively delete a directory and all its contents with the `-r` flag:"
   ]
  },
  {
   "cell_type": "code",
   "execution_count": 88,
   "metadata": {
    "slideshow": {
     "slide_type": "fragment"
    }
   },
   "outputs": [],
   "source": [
    "rm -r thesis"
   ]
  },
  {
   "cell_type": "code",
   "execution_count": 89,
   "metadata": {},
   "outputs": [
    {
     "name": "stdout",
     "output_type": "stream",
     "text": [
      "Screenshot 2024-03-04 at 16.04.25.png  \u001b[34mrand\u001b[m\u001b[m/\n",
      "\u001b[34manalyses\u001b[m\u001b[m/                              setup_bu.md\n",
      "colorblind_plotting.ipynb              \u001b[34mthesis_backup\u001b[m\u001b[m/\n",
      "\u001b[34mdocker_mne\u001b[m\u001b[m/\n"
     ]
    }
   ],
   "source": [
    "ls"
   ]
  },
  {
   "cell_type": "markdown",
   "metadata": {
    "slideshow": {
     "slide_type": "fragment"
    }
   },
   "source": [
    "Because **deleting is forever 💀💀**, the `rm -r` command should be used with GREAT CAUTION."
   ]
  },
  {
   "cell_type": "markdown",
   "metadata": {
    "slideshow": {
     "slide_type": "subslide"
    }
   },
   "source": [
    "### Key points\n",
    "\n",
    "* `cp old new` copies a file\n",
    "* `mkdir path` creates a new directory\n",
    "* `mv old new` moves (renames) a file or directory\n",
    "* `rm path` removes (deletes) a file\n",
    "* `*` matches zero or more characters in a filename, so `*.txt` matches all files ending in `.txt`\n",
    "* `?` matches any single character in a filename, so `?.txt` matches `a.txt` but not `any.txt`\n",
    "* The shell does not have a trash bin: once something is deleted, it’s really gone"
   ]
  },
  {
   "cell_type": "markdown",
   "metadata": {
    "slideshow": {
     "slide_type": "slide"
    }
   },
   "source": [
    "## Summary\n",
    "\n",
    "* The bash shell is very powerful!\n",
    "* It offers a command-line interface to your computer and file system\n",
    "* It makes it easy to operate on files quickly and efficiently (copying, renaming, etc.)\n",
    "* Sequences of shell commands can be strung together to quickly and reproducibly make powerful pipelines"
   ]
  }
 ],
 "metadata": {
  "celltoolbar": "Slideshow",
  "kernelspec": {
   "display_name": "Python 3 (ipykernel)",
   "language": "python",
   "name": "python3"
  },
  "language_info": {
   "codemirror_mode": {
    "name": "ipython",
    "version": 3
   },
   "file_extension": ".py",
   "mimetype": "text/x-python",
   "name": "python",
   "nbconvert_exporter": "python",
   "pygments_lexer": "ipython3",
   "version": "3.10.13"
  },
  "rise": {
   "scroll": "true"
  }
 },
 "nbformat": 4,
 "nbformat_minor": 4
}
